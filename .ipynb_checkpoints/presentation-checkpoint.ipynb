{
 "cells": [
  {
   "cell_type": "markdown",
   "metadata": {
    "slideshow": {
     "slide_type": "slide"
    }
   },
   "source": [
    "# <center> Quantum computing 0 - 100 </center>\n",
    "## <center> Praveen Jayakumar </center>\n",
    "### <center> IEEE IISc, Bangalore </center>\n",
    "### <center> jpraveen@iisc.ac.in </center>\n",
    "\n",
    "<img src=\"./images/IIScComSocLogo.jpeg\" width=\"240\" height=\"240\" align=\"center\"/>\n"
   ]
  },
  {
   "cell_type": "markdown",
   "metadata": {
    "slideshow": {
     "slide_type": "notes"
    }
   },
   "source": [
    "Talk abstract: Quantum computers are around the corner and is right now a fast emerging field with various uses from factoring, sorting and other scientific applications. Today, quantum computers and simulators are\n",
    "accessible by anyone around the world. This tutorial will cover the basic concepts of quantum\n",
    "computing - qubits, quantum gates, the concept of making measurements, preparing bell states,\n",
    "concept of oracles and quantum computing with oracles, Grover’s algorithm and extending it beyond a\n",
    "simple quantum search. To conclude the session, I will briefly introduce and demonstrate quantum\n",
    "machine learning and demonstrate this through VQE (variational quantum Eigensolvers) that are used to\n",
    "make estimates of energy levels and bond lengths. All demonstrations and codes will be coded using\n",
    "Qiskit."
   ]
  },
  {
   "cell_type": "markdown",
   "metadata": {
    "slideshow": {
     "slide_type": "slide"
    }
   },
   "source": [
    "# <center> What is quantum computing? </center>\n",
    "*   Systems in which computing is performed by taking advantage of physics quantum of Quantum systems.\n",
    "*    These physical systems allow *Superposition* and *Entanglement*\n",
    "*    Superposition + Entanglement -> Quantum parallelism\n",
    "* Exploiting quantum parallelism, quantum algorithms efficient compared to known classical algorithms could be designed."
   ]
  },
  {
   "cell_type": "markdown",
   "metadata": {
    "slideshow": {
     "slide_type": "slide"
    }
   },
   "source": [
    "## <center> Quantum simulators </center>\n",
    "\n",
    "\n",
    "*   Physical systems like Ion traps, superconducting circuits, Photonic circuits can be used to perform quantum computation.\n",
    "\n",
    "    *   IBM and Google are developing Superconducting quantum computers\n",
    "    *   IonQ, a quantum startup is developing Ion trap based quantum computers\n",
    "    *   Microsoft is working on topological systems that can be used to perform quantum computation\n",
    "    *   Xanadu is developing photonics quantum computing systems"
   ]
  },
  {
   "cell_type": "markdown",
   "metadata": {
    "slideshow": {
     "slide_type": "subslide"
    }
   },
   "source": [
    "*   Quantum systems are linear, and follow linear algebra and thus can be simulated. Some python based simulators:\n",
    "    *   Qiskit by IBM provides both simulators and access to actual quantum computing\n",
    "    *   Cirq by Google quantum\n",
    "    *   Pennylane + Strawberry fields by Xanadu\n",
    "\n",
    "We use Qiskit for the rest of the presentation"
   ]
  },
  {
   "cell_type": "markdown",
   "metadata": {
    "slideshow": {
     "slide_type": "slide"
    }
   },
   "source": [
    "# <center> Superposition </center>\n",
    "\n",
    "\n",
    "*   Classical unit (bit) of information is 0 or 1.\n",
    "*   A quantum bit (qubit) can be simulatenously 0 and 1.\n",
    "* Let us represent state 0 by $\\vert 0 \\rangle$ and 1 by $\\vert 1 \\rangle$, then the superposition is $a\\vert 0 \\rangle + b\\vert 1 \\rangle$, where $a$ and $b$ are complex numbers.\n",
    "* $a$ and $b$ uniquely define the superposition $\\Rightarrow$ Two-dimensional complex vector $[a~b] \\in \\mathbb{C}^2$.\n",
    "* Measurement affects superposition: Measuring $a\\vert 0 \\rangle + b\\vert 1 \\rangle$ using the standard basis ($\\vert 0 \\rangle, \\vert 1 \\rangle$) gives:\n",
    "\n",
    " Measurement outcome $\\vert 0 \\rangle$ with probability $|a|^2$\n",
    "\n",
    " Measurement outcome $\\vert 1 \\rangle$ with probability $|b|^2$\n",
    "\n",
    " * As probabilities add up to 1, $|a|^2+|b|^2=1$ $\\Rightarrow$ $[a~b]$ is a normalized vector.\n",
    "\n",
    "* For n qubits, the superposition is $\\underset{i_1, \\dots, i_n=0}{\\overset{1}{\\sum}} a_{i_1\\dots i_n}\\vert i_1 \\rangle\\dots \\vert i_n \\rangle = \\underset{i_1, \\dots, i_n=0}{\\overset{1}{\\sum}} a_{i_1\\dots i_n}\\vert i_1 \\dots i_n \\rangle$"
   ]
  },
  {
   "cell_type": "code",
   "execution_count": 6,
   "metadata": {
    "slideshow": {
     "slide_type": "slide"
    }
   },
   "outputs": [
    {
     "data": {
      "text/html": [
       "<pre style=\"word-wrap: normal;white-space: pre;background: #fff0;line-height: 1.1;font-family: &quot;Courier New&quot;,Courier,monospace\">     ┌───┐┌─┐\n",
       "q_0: ┤ H ├┤M├\n",
       "     └───┘└╥┘\n",
       "c: 1/══════╩═\n",
       "           0 </pre>"
      ],
      "text/plain": [
       "     ┌───┐┌─┐\n",
       "q_0: ┤ H ├┤M├\n",
       "     └───┘└╥┘\n",
       "c: 1/══════╩═\n",
       "           0 "
      ]
     },
     "execution_count": 6,
     "metadata": {},
     "output_type": "execute_result"
    }
   ],
   "source": [
    "#demonstrating superposition\n",
    "\n",
    "#importing requirements\n",
    "from qiskit import QuantumRegister, ClassicalRegister, QuantumCircuit, assemble, Aer\n",
    "from qiskit.visualization import plot_bloch_multivector, plot_histogram\n",
    "\n",
    "#simulator\n",
    "qasmsim = Aer.get_backend('qasm_simulator')\n",
    "\n",
    "qc = QuantumCircuit(1, 1)\n",
    "qc.h(0)\n",
    "qc.measure(0, 0)\n",
    "qc.draw()"
   ]
  },
  {
   "cell_type": "code",
   "execution_count": 7,
   "metadata": {
    "slideshow": {
     "slide_type": "subslide"
    }
   },
   "outputs": [
    {
     "data": {
      "image/png": "[encoded data removed]",
      "text/plain": [
       "<Figure size 504x360 with 1 Axes>"
      ]
     },
     "execution_count": 7,
     "metadata": {},
     "output_type": "execute_result"
    }
   ],
   "source": [
    "qobj = assemble(qc)\n",
    "counts = qasmsim.run(qobj, shots = 1000).result().get_counts()\n",
    "plot_histogram(counts)"
   ]
  },
  {
   "cell_type": "markdown",
   "metadata": {
    "slideshow": {
     "slide_type": "fragment"
    }
   },
   "source": [
    "Almost equal probablity of each state 0 and 1 is achieved.\n",
    "\n",
    "Lets try to run this on an actual quantum computer, provided by IBM quantum computing cloud services:"
   ]
  },
  {
   "cell_type": "code",
   "execution_count": 8,
   "metadata": {
    "slideshow": {
     "slide_type": "slide"
    }
   },
   "outputs": [
    {
     "data": {
      "text/plain": [
       "[<AccountProvider for IBMQ(hub='ibm-q', group='open', project='main')>]"
      ]
     },
     "execution_count": 8,
     "metadata": {},
     "output_type": "execute_result"
    }
   ],
   "source": [
    "# Implementing a circuit on the IBMq systems\n",
    "from qiskit import IBMQ, transpile\n",
    "\n",
    "# IBMQ.save_account(TOKEN)\n",
    "IBMQ.load_account() # Load account from disk\n",
    "IBMQ.providers()    # List all available providers"
   ]
  },
  {
   "cell_type": "code",
   "execution_count": 9,
   "metadata": {
    "slideshow": {
     "slide_type": "fragment"
    }
   },
   "outputs": [
    {
     "ename": "IBMQJobInvalidStateError",
     "evalue": "'Unable to retrieve result for job 60c1a6a4e5bd488557a95105. Job was cancelled.'",
     "output_type": "error",
     "traceback": [
      "\u001b[0;31m---------------------------------------------------------------------------\u001b[0m",
      "\u001b[0;31mIBMQJobInvalidStateError\u001b[0m                  Traceback (most recent call last)",
      "\u001b[0;32m<ipython-input-9-abb54c783d4e>\u001b[0m in \u001b[0;36m<module>\u001b[0;34m\u001b[0m\n\u001b[1;32m      6\u001b[0m \u001b[0;31m# hardware is configured and optimised to certain gates.\u001b[0m\u001b[0;34m\u001b[0m\u001b[0;34m\u001b[0m\u001b[0;34m\u001b[0m\u001b[0m\n\u001b[1;32m      7\u001b[0m \u001b[0mqc_transpiled\u001b[0m \u001b[0;34m=\u001b[0m \u001b[0mtranspile\u001b[0m\u001b[0;34m(\u001b[0m\u001b[0mqc\u001b[0m\u001b[0;34m,\u001b[0m \u001b[0mbackend\u001b[0m\u001b[0;34m=\u001b[0m\u001b[0mbackend\u001b[0m\u001b[0;34m)\u001b[0m\u001b[0;34m\u001b[0m\u001b[0;34m\u001b[0m\u001b[0m\n\u001b[0;32m----> 8\u001b[0;31m \u001b[0mcounts\u001b[0m \u001b[0;34m=\u001b[0m \u001b[0mbackend\u001b[0m\u001b[0;34m.\u001b[0m\u001b[0mrun\u001b[0m\u001b[0;34m(\u001b[0m\u001b[0mqc_transpiled\u001b[0m\u001b[0;34m,\u001b[0m \u001b[0mshots\u001b[0m \u001b[0;34m=\u001b[0m \u001b[0;36m1000\u001b[0m\u001b[0;34m)\u001b[0m\u001b[0;34m.\u001b[0m\u001b[0mresult\u001b[0m\u001b[0;34m(\u001b[0m\u001b[0;34m)\u001b[0m\u001b[0;34m.\u001b[0m\u001b[0mget_counts\u001b[0m\u001b[0;34m(\u001b[0m\u001b[0;34m)\u001b[0m\u001b[0;34m\u001b[0m\u001b[0;34m\u001b[0m\u001b[0m\n\u001b[0m\u001b[1;32m      9\u001b[0m \u001b[0mplot_histogram\u001b[0m\u001b[0;34m(\u001b[0m\u001b[0mcounts\u001b[0m\u001b[0;34m)\u001b[0m\u001b[0;34m\u001b[0m\u001b[0;34m\u001b[0m\u001b[0m\n",
      "\u001b[0;32m~/anaconda3/lib/python3.7/site-packages/qiskit/providers/ibmq/job/ibmqjob.py\u001b[0m in \u001b[0;36mresult\u001b[0;34m(self, timeout, wait, partial, refresh)\u001b[0m\n\u001b[1;32m    278\u001b[0m             \u001b[0;32mif\u001b[0m \u001b[0mself\u001b[0m\u001b[0;34m.\u001b[0m\u001b[0m_status\u001b[0m \u001b[0;32mis\u001b[0m \u001b[0mJobStatus\u001b[0m\u001b[0;34m.\u001b[0m\u001b[0mCANCELLED\u001b[0m\u001b[0;34m:\u001b[0m\u001b[0;34m\u001b[0m\u001b[0;34m\u001b[0m\u001b[0m\n\u001b[1;32m    279\u001b[0m                 raise IBMQJobInvalidStateError('Unable to retrieve result for job {}. '\n\u001b[0;32m--> 280\u001b[0;31m                                                'Job was cancelled.'.format(self.job_id()))\n\u001b[0m\u001b[1;32m    281\u001b[0m             \u001b[0;31m# Job failed.\u001b[0m\u001b[0;34m\u001b[0m\u001b[0;34m\u001b[0m\u001b[0;34m\u001b[0m\u001b[0m\n\u001b[1;32m    282\u001b[0m             \u001b[0;32mif\u001b[0m \u001b[0mpartial\u001b[0m\u001b[0;34m:\u001b[0m\u001b[0;34m\u001b[0m\u001b[0;34m\u001b[0m\u001b[0m\n",
      "\u001b[0;31mIBMQJobInvalidStateError\u001b[0m: 'Unable to retrieve result for job 60c1a6a4e5bd488557a95105. Job was cancelled.'"
     ]
    }
   ],
   "source": [
    "# provider  -> backend (device) -> Run transpiled circuit\n",
    "\n",
    "provider = IBMQ.get_provider(hub='ibm-q', group='open', project='main')\n",
    "backend = provider.get_backend('ibmq_manila')\n",
    "\n",
    "# hardware is configured and optimised to certain gates. \n",
    "qc_transpiled = transpile(qc, backend=backend)\n",
    "counts = backend.run(qc_transpiled, shots = 1000).result().get_counts()\n",
    "plot_histogram(counts)"
   ]
  },
  {
   "cell_type": "code",
   "execution_count": null,
   "metadata": {
    "slideshow": {
     "slide_type": "notes"
    }
   },
   "outputs": [],
   "source": [
    "backend.configuration().basis_gates"
   ]
  },
  {
   "cell_type": "markdown",
   "metadata": {
    "slideshow": {
     "slide_type": "slide"
    }
   },
   "source": [
    "## <center> Quantum Gates </center>\n",
    "\n",
    "* Quantum dynamics is linear + States are normalized $\\Rightarrow$ Quantum operators are unitary ($UU^{\\dagger} = U^{\\dagger}U = \\mathrm{I}$)\n",
    "* Unitary gates $\\Rightarrow$ Reversible computation.\n",
    "* States: Normalized two-dimensional complex vectors $\\Rightarrow$ Operators: Unitary $(2\\times 2)$-dimensional complex matrices.\n",
    "* Unitary gates on superposition: $U(a\\vert 0 \\rangle+b\\vert 1 \\rangle) = aU\\vert 0 \\rangle+bU\\vert 1 \\rangle$"
   ]
  },
  {
   "cell_type": "markdown",
   "metadata": {
    "slideshow": {
     "slide_type": "subslide"
    }
   },
   "source": [
    "* A few quantum gates:\n",
    "    * X gate or Bit flip gate:\n",
    "      \\begin{align}\n",
    "      \\mathrm{X} = \\begin{bmatrix}0 & 1\\\\1 & 0\\end{bmatrix}, \\mathrm{X}\\vert 0 \\rangle = \\vert 1 \\rangle, \\mathrm{X}\\vert 1 \\rangle = \\vert 0 \\rangle.\n",
    "      \\end{align}\n",
    "    * Z gate or Phase flip gate:\n",
    "      \\begin{align}\n",
    "      \\mathrm{Z} = \\begin{bmatrix}1 & 0\\\\0 & -1\\end{bmatrix}, \\mathrm{Z}\\vert 0 \\rangle = \\vert 0 \\rangle, \\mathrm{Z}\\vert 1 \\rangle = -\\vert 1 \\rangle.\n",
    "      \\end{align}\n",
    "    * H gate or Hadamard gate:\n",
    "  \\begin{align}\n",
    "  \\mathrm{H} = \\begin{bmatrix}1 & 1\\\\1 & -1\\end{bmatrix}, \\mathrm{H}\\vert 0 \\rangle = \\frac{\\vert 0 \\rangle + \\vert 1 \\rangle}{\\sqrt{2}} := \\vert + \\rangle, \\mathrm{H}\\vert 1 \\rangle = \\frac{\\vert 0 \\rangle - \\vert 1 \\rangle}{\\sqrt{2}} := \\vert - \\rangle.\n",
    "  \\end{align}\n",
    "\n",
    "Notice that $HZH = X$ and eigen states of $Z$ are $\\vert 0\\rangle$, $\\vert 1 \\rangle$, while eigen states of $X$ are $\\vert +\\rangle$, $\\vert - \\rangle$."
   ]
  },
  {
   "cell_type": "markdown",
   "metadata": {
    "slideshow": {
     "slide_type": "subslide"
    }
   },
   "source": [
    "### Measurement\n",
    "\n",
    "We had measured in the $\\vert 0 \\rangle$, $\\vert 1 \\rangle$ basis. In general, we can choose to measure in any (orthogonal) basis states and we would obtain different final results.\n",
    "* Measuring $a\\vert 0 \\rangle + b\\vert 1 \\rangle$ using the standard basis ($\\vert 0 \\rangle, \\vert 1 \\rangle$) gives:\n",
    "\n",
    " Measurement outcome $\\vert 0 \\rangle$ with probability $|a|^2$\n",
    "\n",
    " Measurement outcome $\\vert 1 \\rangle$ with probability $|b|^2$\n",
    "\n",
    "* Measuring $a\\vert 0 \\rangle + b\\vert 1 \\rangle$ using $\\vert + \\rangle, \\vert - \\rangle$ basis gives:\n",
    "\n",
    " Measurement outcome $\\vert + \\rangle$ with probability $|\\frac{a + b}{\\sqrt{2}}|^2$\n",
    "\n",
    " Measurement outcome $\\vert - \\rangle$ with probability $|\\frac{a - b}{\\sqrt{2}}|^2$\n",
    "\n",
    "Lets now see a simple application of these concepts."
   ]
  },
  {
   "cell_type": "markdown",
   "metadata": {
    "slideshow": {
     "slide_type": "slide"
    }
   },
   "source": [
    "## <center> Quantum Key Distribution </center>\n",
    "Goal: To establish a shared binary string between two parties - Alice and Bob, while protecting information from evesdropper Eve\n",
    "\n",
    "Idea: When state $\\vert +\\rangle$ (or) $\\vert - \\rangle$ is measured in standard basis $\\vert 0 \\rangle, \\vert 1 \\rangle$, we obtain 0 and 1 with equal probability, and vice versa\n",
    "![](./images/x1.jpeg)\n",
    "QKD set up, image source:  https://deepai.org/publication/backflash-light-as-a-security-vulnerability-in-quantum-key-distribution-systems"
   ]
  },
  {
   "cell_type": "markdown",
   "metadata": {
    "slideshow": {
     "slide_type": "subslide"
    }
   },
   "source": [
    "Protocol:\n",
    "* Alice has to transmit bit string $\\bar{a} = a_1a_2\\cdots a_n$. She chooses another bit string $\\bar{b} = b_1b_2\\cdots b_n$ to denote the basis with which she encodes her bit string into qubits $\\vert \\bar{q}\\rangle = \\vert q_1q_2\\cdots q_n\\rangle$.\n",
    "    * If $b_i = 0$, she encodes with $\\{\\vert 0 \\rangle, \\vert 1 \\rangle\\}$ basis: \n",
    "\n",
    "        $a_i = 0 \\rightarrow \\vert q_i \\rangle = \\vert 0 \\rangle$, \n",
    "\n",
    "        $a_i = 1 \\rightarrow \\vert q_i \\rangle = \\vert 1 \\rangle$\n",
    "\n",
    "    * If $b_i = 1$, she encodes with $\\{\\vert + \\rangle, \\vert - \\rangle\\}$ basis: \n",
    "\n",
    "        $a_i = 0 \\rightarrow \\vert q_i \\rangle = \\vert + \\rangle$, \n",
    "\n",
    "        $a_i = 1 \\rightarrow \\vert q_i \\rangle = \\vert - \\rangle$"
   ]
  },
  {
   "cell_type": "markdown",
   "metadata": {
    "slideshow": {
     "slide_type": "subslide"
    }
   },
   "source": [
    "* Alice now sends qubits $\\vert q_1q_2\\cdots q_n \\rangle$ to Bob, without revealing basis string $\\bar{b} = b_1b_2\\cdots b_n$.\n",
    "* Bob does not know the basis of state preparation $\\bar{b}$ and randomly chooses bit string $\\bar{c} = c_1c_2\\cdots c_n$ that determine the basis of measurement\n",
    "    * If $c_i = 0$, he measures in $\\{\\vert 0 \\rangle, \\vert 1 \\rangle\\}$ basis: \n",
    "\n",
    "        If $b_i = 0$, Bob obtains correct answer $d_i = a_i$ with probability ~ 1\n",
    "\n",
    "        If $b_i = 1$, Bob obtains correct answer $d_i = a_i$ and wrong answer $d_i \\neq a_i$ with probability ~ 0.5 each\n",
    "\n",
    "    * If $c_i = 1$, he measures in $\\{\\vert + \\rangle, \\vert - \\rangle\\}$ basis: \n",
    "\n",
    "        If $b_i = 1$, Bob obtains correct answer $d_i = a_i$ with probability ~ 1\n",
    "\n",
    "        If $b_i = 0$, Bob obtains correct answer $d_i = a_i$ and wrong answer $d_i \\neq a_i$ with probability ~ 0.5 each\n"
   ]
  },
  {
   "cell_type": "markdown",
   "metadata": {
    "slideshow": {
     "slide_type": "subslide"
    }
   },
   "source": [
    "<img src=\"./images/qkd_basis.png\" width=\"800\" height=\"800\" align=\"center\"/>\n",
    "\n",
    "Image source: https://www.slideshare.net/jinxbinx/introduction-to-quantum-computation-part-1-28029623"
   ]
  },
  {
   "cell_type": "markdown",
   "metadata": {
    "slideshow": {
     "slide_type": "subslide"
    }
   },
   "source": [
    "* Finally, Bob tells Alice that he has performed measurements. Alice and Bob publicly exchange basis strings $\\bar{b}$ and $\\bar{c}$.\n",
    "* In both above cases, if $b_i = c_i$ (they choose the same basis), measurement is performed in the same basis and answers will almost always be correct, an for basis mismatch, would be wrong for half the bits.\n",
    "* Hence they retain the bit results $a_i$ and $d_i$ respectively at positions where they used the same basis bits $b_i = c_i$.\n",
    "\n",
    "Advantange: Information is physically protected from evesdropping and third parties. Eve does not know the basis used by Alice. If Eve tries to obtain information by performing measurements, Bob would receive altered qubits with too many errors and this can be detected by statistical methods. This can be performed by using a small fraction of the obtained bit strings $\\bar{a}$ and $\\bar{d}$ to verify integrity.\n",
    "\n",
    "![](./images/qkd.png)"
   ]
  },
  {
   "cell_type": "markdown",
   "metadata": {
    "slideshow": {
     "slide_type": "slide"
    }
   },
   "source": [
    "### Few other gates\n",
    "\n",
    "* S gate or Phase gate:\n",
    "  \\begin{align}\n",
    "  \\mathrm{S} = \\begin{bmatrix}1 & 0\\\\0 & \\mathrm{i}\\end{bmatrix}, \\mathrm{S}\\vert 0 \\rangle = \\vert 0 \\rangle, \\mathrm{S}\\vert 1 \\rangle = \\mathrm{i}\\vert 1 \\rangle.\n",
    "  \\end{align}\n",
    "      "
   ]
  },
  {
   "cell_type": "markdown",
   "metadata": {
    "slideshow": {
     "slide_type": "fragment"
    }
   },
   "source": [
    "* CNOT gate or Controlled-NOT gate: (2 qubit gate)\n",
    "  \\begin{align}\n",
    "  \\mathrm{CNOT} &= \\begin{bmatrix}1 & 0 & 0 & 0\\\\0 & 1 & 0 & 0\\\\ 0 & 0 & 0 & 1\\\\ 0 & 0 & 1 & 0\\end{bmatrix}, \\\\\n",
    "  \\mathrm{CNOT}\\vert 00 \\rangle = \\vert 00 \\rangle, &\\mathrm{CNOT}\\vert 01 \\rangle = \\vert 01 \\rangle, \\mathrm{CNOT}\\vert 10 \\rangle = \\vert 11 \\rangle, \\mathrm{CNOT}\\vert 11 \\rangle = \\vert 10 \\rangle.\n",
    "  \\end{align}\n",
    "\n",
    "  Controlled-NOT because the NOT operation, i.e., the X operation, is performed on 2nd qubit only when 1st qubit is $\\vert 1\\rangle$, else, no operation is performed. \n",
    "* Universal set of gates: All one qubit gates + CNOT."
   ]
  },
  {
   "cell_type": "markdown",
   "metadata": {
    "slideshow": {
     "slide_type": "slide"
    }
   },
   "source": [
    "## <center> Bloch Sphere </center>\n",
    "\n",
    "* A qubit: $\\vert \\psi \\rangle = a \\vert 0\\rangle + b\\vert 1 \\rangle$.\n",
    "\n",
    "  As $|a|^2 + |b|^2 = 1$, let $a = |a| e^{i\\phi_0}$ and $b = |b| e^{i\\phi_1}$, then\n",
    "\n",
    "\\begin{align}\n",
    "\\vert \\psi \\rangle &= a \\vert 0\\rangle + b\\vert 1 \\rangle = |a| e^{i\\phi_0}\\vert 0\\rangle + |b| e^{i\\phi_1} \\vert 1 \\rangle\\\\\n",
    "\\vert \\psi \\rangle &= e^{i\\phi_0}(|a| \\vert 0\\rangle + |b| e^{i(\\phi_1-\\phi_0)} \\vert 1 \\rangle\\\\\n",
    "\\vert \\psi \\rangle &= e^{i\\phi_0}(\\mathrm{cos}~ \\theta \\vert 0\\rangle + \\mathrm{sin} ~\\theta e^{i\\phi} \\vert 1 \\rangle,\n",
    "\\end{align}\n",
    "where $\\phi = \\phi_0-\\phi_1$, $|a|=\\mathrm{cos}~ \\theta$, and $|b|=\\mathrm{sin}~ \\theta$."
   ]
  },
  {
   "cell_type": "markdown",
   "metadata": {
    "slideshow": {
     "slide_type": "subslide"
    }
   },
   "source": [
    "* Bloch sphere: A sphere with spherical coordinates $[1,\\theta,\\phi]$ (Radius is 1 as the state is normalized).\n",
    "* Pure states: On the surface of the Bloch sphere\n",
    "* Mixed states: Inside the bloch sphere\n",
    "\n",
    "<img src=\"./images/Bloch_sphere.png\" width=\"400\" height=\"400\" align=\"center\"/>"
   ]
  },
  {
   "cell_type": "code",
   "execution_count": null,
   "metadata": {
    "slideshow": {
     "slide_type": "notes"
    }
   },
   "outputs": [],
   "source": [
    "# bloch sphere representation demonstration\n",
    "from numpy import pi\n",
    "from qiskit.quantum_info import Statevector\n",
    "%matplotlib inline\n",
    "\n",
    "statesim = Aer.get_backend('statevector_simulator')\n",
    "\n",
    "q = QuantumCircuit(1)\n",
    "q.u3(0, pi/2, 0, 0)\n",
    "\n",
    "state = Statevector.from_instruction(q)\n",
    "plot_bloch_multivector(state)"
   ]
  },
  {
   "cell_type": "markdown",
   "metadata": {
    "slideshow": {
     "slide_type": "slide"
    }
   },
   "source": [
    "## <center> Entanglement </center>\n",
    "\n",
    "* Two states are entangled when the state of one qubit cannot be described independently of the other.\n",
    "* Entanglement $\\Rightarrow$ Correlation between particle irrespective of the distance between them\n",
    "* Entanglement cannot be created locally. \n",
    "* Example: Bell state: $(\\vert 00\\rangle + \\vert 11\\rangle)/\\sqrt{2}$. \n"
   ]
  },
  {
   "cell_type": "code",
   "execution_count": 10,
   "metadata": {
    "slideshow": {
     "slide_type": "subslide"
    }
   },
   "outputs": [
    {
     "data": {
      "text/html": [
       "<pre style=\"word-wrap: normal;white-space: pre;background: #fff0;line-height: 1.1;font-family: &quot;Courier New&quot;,Courier,monospace\">     ┌───┐     ┌─┐   \n",
       "q_0: ┤ H ├──■──┤M├───\n",
       "     └───┘┌─┴─┐└╥┘┌─┐\n",
       "q_1: ─────┤ X ├─╫─┤M├\n",
       "          └───┘ ║ └╥┘\n",
       "c: 2/═══════════╩══╩═\n",
       "                0  1 </pre>"
      ],
      "text/plain": [
       "     ┌───┐     ┌─┐   \n",
       "q_0: ┤ H ├──■──┤M├───\n",
       "     └───┘┌─┴─┐└╥┘┌─┐\n",
       "q_1: ─────┤ X ├─╫─┤M├\n",
       "          └───┘ ║ └╥┘\n",
       "c: 2/═══════════╩══╩═\n",
       "                0  1 "
      ]
     },
     "execution_count": 10,
     "metadata": {},
     "output_type": "execute_result"
    }
   ],
   "source": [
    "# bell state \n",
    "qc2 = QuantumCircuit(2, 2)\n",
    "qc2.h(0)\n",
    "qc2.cx(0, 1)\n",
    "qc2.measure([0, 1], [0, 1])\n",
    "qc2.draw()"
   ]
  },
  {
   "cell_type": "code",
   "execution_count": 11,
   "metadata": {
    "slideshow": {
     "slide_type": "fragment"
    }
   },
   "outputs": [
    {
     "data": {
      "image/png": "[encoded data removed]",
      "text/plain": [
       "<Figure size 504x360 with 1 Axes>"
      ]
     },
     "execution_count": 11,
     "metadata": {},
     "output_type": "execute_result"
    }
   ],
   "source": [
    "qobj = assemble(qc2)\n",
    "counts = qasmsim.run(qobj, shots = 1000).result().get_counts()\n",
    "plot_histogram(counts)"
   ]
  },
  {
   "cell_type": "markdown",
   "metadata": {
    "slideshow": {
     "slide_type": "subslide"
    }
   },
   "source": [
    "* Applications: \n",
    "   * Quantum teleportation: Transfer information in one qubit using one Bell pair and transmitting two classical bits over a classical channel.\n",
    "   * Super dense coding: Transfer two classical bits using one Bell pair where one qubit of the Bell pair is transmitted over the classical channel.\n",
    "   * Quantum error correction: Due to No cloning theorem, quantum information cannot be copied. Store quantum information redundantly using entanglement making error correction possible. \n",
    "* Mixed state: Ensemble representation of a qubit in an entangled state:\n",
    "\n",
    "<center> First qubit of Bell state: $\\rho = \\{(0.5,\\vert 0\\rangle), (0.5,\\vert 0\\rangle)\\}$.<center>"
   ]
  },
  {
   "cell_type": "markdown",
   "metadata": {
    "slideshow": {
     "slide_type": "slide"
    }
   },
   "source": [
    "## <center> Searching </center>\n",
    " * Classically, to find an object in an unsorted list, it requires us to check every item of the list. If the number of elements is n, it requires at max n checks to find an element. Complexity of search: $\\mathcal{O}(n)$\n",
    "\n",
    " * Using Grover's search algorithm Grover's quantum on an unsorted database, one can find an object with just $\\mathcal{O}(\\sqrt{n})$ checks.\n",
    "\n",
    " * The Grover's search algorithm consists of 2 steps:\n",
    "     * Oracle creation\n",
    "     * Amplitude amplification\n",
    " "
   ]
  },
  {
   "cell_type": "markdown",
   "metadata": {
    "slideshow": {
     "slide_type": "subslide"
    }
   },
   "source": [
    "* Oracle creation: \n",
    "  * Classical function: $f_w(x) = 0$ if $x\\neq w$ and $f_w(x) = 1$ if $x=w$.\n",
    "  * Quantum function: \n",
    "  \\begin{align}\n",
    "  \\vert x \\rangle &\\vert y \\rangle \\xrightarrow{U_w} \\vert x \\rangle \\vert y \\oplus f_w(x) \\rangle,\\\\\n",
    "   \\text{which is }\\text{equivalent to}\\\\\n",
    "   \\vert x \\rangle  &\\rightarrow{U_w}(-1)^{f_w(x)}\\vert x \\rangle,\\text{ when }\\vert y \\rangle = (\\vert 0 \\rangle - \\vert 1 \\rangle)/\\sqrt{2}, \\\\\n",
    "  \\Rightarrow U_w &= \\mathrm{I} - 2\\vert w \\rangle \\langle w\\vert\n",
    "      \\end{align}\n",
    "     Thus, the oracle flips sign of state $\\vert w\\rangle$ but does not change the other states."
   ]
  },
  {
   "cell_type": "markdown",
   "metadata": {
    "slideshow": {
     "slide_type": "subslide"
    }
   },
   "source": [
    "* Amplitude Amplification: \n",
    "  * First prepare a equiprobable normalized superposition of all possible values of $x$ (Hadamard gates $\\mathrm{H}$ on $\\vert 0\\rangle$s):\n",
    "\\begin{align}\n",
    "\\vert s \\rangle  = \\frac{1}{\\sqrt{n}}\\underset{x=1}{\\overset{n}{\\sum}}\\vert x \\rangle.\n",
    "\\end{align}\n",
    " * We next perform the Grover's interations: Grover iteration comprises of 2 steps:\n",
    "     *  Apply the operator $U_w = \\mathrm{I} - 2\\vert w \\rangle \\langle w\\vert$ to the state $\\vert \\psi \\rangle$. For the first iteration, $\\vert \\psi \\rangle = \\vert s \\rangle$.\n",
    "     * Apply the operator $U_s = 2\\vert s \\rangle\\langle s \\vert - \\mathrm{I}$ which preserves $s$ but flips sign of states orthogonal to $\\vert s\\rangle$.\n",
    "\n",
    "     Let $\\vert \\psi\\rangle = \\underset{x=1}{\\overset{n}{\\sum}}a_x\\vert x\\rangle$. Then, $U_s \\vert \\psi\\rangle = \\underset{x=1}{\\overset{n}{\\sum}} (2\\langle a \\rangle-a_x)\\vert x \\rangle$. \n",
    "\\begin{align}\n",
    "  \\text{Let }a_x = \\langle a \\rangle + a_d \\Rightarrow (2\\langle a \\rangle - a_x) = \\langle a \\rangle - a_d\n",
    "\\end{align}\n",
    "Thus, the amplitudes are inverted along the mean amplitude.\n",
    "* After the Grover's iteration is applied for $\\sqrt{n}$ times, the amplitudes $a_x = 0$ for  $x \\neq w$ and $a_w=1$."
   ]
  },
  {
   "cell_type": "markdown",
   "metadata": {
    "slideshow": {
     "slide_type": "subslide"
    }
   },
   "source": [
    "<img src=\"./images/GroverAlgo.png\" width=\"1080\" height=\"1920\" align=\"center\"/>\n",
    "\n",
    "We can numerically determine the number of Grover's iterations required and we obtain it as $\\sqrt{n}$"
   ]
  },
  {
   "cell_type": "code",
   "execution_count": 12,
   "metadata": {
    "slideshow": {
     "slide_type": "slide"
    }
   },
   "outputs": [
    {
     "data": {
      "text/plain": [
       "<qiskit.circuit.instructionset.InstructionSet at 0x7ff34c571ed0>"
      ]
     },
     "execution_count": 12,
     "metadata": {},
     "output_type": "execute_result"
    }
   ],
   "source": [
    "#grover's algorithm (oracle identifies string s) 2 bit string\n",
    "\n",
    "grovers = QuantumCircuit(2, 2)\n",
    "\n",
    "#creating equal superposition\n",
    "grovers.h([0, 1])\n",
    "#grovers.draw()"
   ]
  },
  {
   "cell_type": "code",
   "execution_count": 13,
   "metadata": {
    "slideshow": {
     "slide_type": "fragment"
    }
   },
   "outputs": [],
   "source": [
    "#applying oracle to mark string s\n",
    "s = '10'\n",
    "for i in range(len(s)):\n",
    "    if s[i] == '0':\n",
    "        grovers.x(i)\n",
    "grovers.cz(0, 1)\n",
    "for i in range(len(s)):\n",
    "    if s[i] == '0':\n",
    "        grovers.x(i)"
   ]
  },
  {
   "cell_type": "code",
   "execution_count": 14,
   "metadata": {
    "slideshow": {
     "slide_type": "fragment"
    }
   },
   "outputs": [
    {
     "data": {
      "text/html": [
       "<pre style=\"word-wrap: normal;white-space: pre;background: #fff0;line-height: 1.1;font-family: &quot;Courier New&quot;,Courier,monospace\">     ┌───┐        ┌───┐┌───┐        ┌───┐\n",
       "q_0: ┤ H ├──────■─┤ H ├┤ Z ├──────■─┤ H ├\n",
       "     ├───┤┌───┐ │ ├───┤├───┤┌───┐ │ ├───┤\n",
       "q_1: ┤ H ├┤ X ├─■─┤ X ├┤ H ├┤ Z ├─■─┤ H ├\n",
       "     └───┘└───┘   └───┘└───┘└───┘   └───┘\n",
       "c: 2/════════════════════════════════════\n",
       "                                         </pre>"
      ],
      "text/plain": [
       "     ┌───┐        ┌───┐┌───┐        ┌───┐\n",
       "q_0: ┤ H ├──────■─┤ H ├┤ Z ├──────■─┤ H ├\n",
       "     ├───┤┌───┐ │ ├───┤├───┤┌───┐ │ ├───┤\n",
       "q_1: ┤ H ├┤ X ├─■─┤ X ├┤ H ├┤ Z ├─■─┤ H ├\n",
       "     └───┘└───┘   └───┘└───┘└───┘   └───┘\n",
       "c: 2/════════════════════════════════════\n",
       "                                         "
      ]
     },
     "execution_count": 14,
     "metadata": {},
     "output_type": "execute_result"
    }
   ],
   "source": [
    "#amplitude amplification (I - |S>)\n",
    "grovers.h([0, 1])\n",
    "grovers.z([0, 1])\n",
    "grovers.cz(0, 1)\n",
    "grovers.h([0, 1])\n",
    "\n",
    "grovers.draw()"
   ]
  },
  {
   "cell_type": "code",
   "execution_count": 15,
   "metadata": {
    "slideshow": {
     "slide_type": "subslide"
    }
   },
   "outputs": [
    {
     "data": {
      "image/png": "[encoded data removed]",
      "text/plain": [
       "<Figure size 504x360 with 1 Axes>"
      ]
     },
     "execution_count": 15,
     "metadata": {},
     "output_type": "execute_result"
    }
   ],
   "source": [
    "grovers.measure([0, 1], [0, 1])\n",
    "qobj = assemble(grovers)\n",
    "counts_grovers = qasmsim.run(qobj).result().get_counts()\n",
    "plot_histogram(counts_grovers)"
   ]
  },
  {
   "cell_type": "markdown",
   "metadata": {
    "slideshow": {
     "slide_type": "slide"
    }
   },
   "source": [
    "## <center> Oracles </center>\n",
    "In the algorithm above, we used an oracle to mark the required state. An oracle can be thought of as a blackbox that given an input, spits out the corresponding answer.\n",
    "oracles can be designed for tasks like \n",
    "* Determining if the given input is the required target, \n",
    "* For calculating some hidden function $f$ on the input. \n",
    "* It can also be used to mark if the given input satisfies some criteria ie verify if it is a solution, satisfiability problem. grover's algorithm can be used to solve NP complete problems.\n",
    "\n",
    "NP problems are those who's solutions are hard to find but easy to verify. Thus when given a superposition of all posible solution states, the quantum oracle marks the solution state. In the next step, the amplitude of the marked state will be amplified."
   ]
  },
  {
   "cell_type": "markdown",
   "metadata": {
    "slideshow": {
     "slide_type": "subslide"
    }
   },
   "source": [
    "The example illustrated where we marked string 01, the problem can be recast into a clause $(\\bar{x_1}\\wedge x_2)$\n",
    "\n",
    "In general we can solve the 3 satisfiability (3-SAT) problem by recasting the string into maximally disjoint clauses of the form\n",
    "$(x_1 \\vee x_2 \\vee x_3)\\wedge(x_4\\vee x_5 \\vee x_6)\\wedge \\cdots $\n",
    "\n"
   ]
  },
  {
   "cell_type": "markdown",
   "metadata": {
    "slideshow": {
     "slide_type": "slide"
    }
   },
   "source": [
    "## <center> VQE and optimization using quantum computers </center>\n",
    "\n",
    "* In chemistry and biology, we require to estimate and predict various parameters of molecules to study and understand their properties.\n",
    "* Estimating these properties using classical computers and algorithms are computationally hard. Quantum systems have entanglement and superposition that are hard to efficiently simulate on classical systems.\n",
    "* As Prof. Feynman had once said, quantum computer would be better to efficiently simulate quantum systems.  \n",
    "* An important parameter that determines the stability and various properties is the bond length of the molecule.\n",
    "\n",
    "\n",
    "* The bond length by definition minimizes the energy of the molecule. This hints at designing a quantum optimizer parameterized by the bond length and outputs the estimated energy.\n",
    "* We can then optimize the circuit (by optimizing parameters like bond length) to obtain the least energy possible."
   ]
  },
  {
   "cell_type": "markdown",
   "metadata": {
    "slideshow": {
     "slide_type": "slide"
    }
   },
   "source": [
    "### Other applications\n",
    "\n",
    "* Matrix inversion by HHL method - to solve linear equations efficiently\n",
    "    Uses phase estimation and conditional rotational gates to approximately invert matrices\n",
    "* Optimization using QAOA - Start with a known hamiltonian $H_0$ and the lowest eigen state and quasi-statically evolve to the required hamiltonian $H_1$. Due to Adiabaticity, the final state of the system would also be the lowest eigen state of $H_1$.\n",
    "* Shor's factoring algorithm - To solve discrete logarithm problem using phase estimation- Can solve with exponential speed up over classical methods and break RSA encryption."
   ]
  },
  {
   "cell_type": "markdown",
   "metadata": {
    "slideshow": {
     "slide_type": "slide"
    }
   },
   "source": [
    "## <center> Questions </center>\n",
    "<center> Any questions? </center>\n",
    "\n",
    "## <center> References </center>\n",
    "* Quantum Computation and Quantum Information, 10th edition, Michael Nielsen and Isaac Chuang.\n",
    "* [Qiskit textbook](https://qiskit.org/textbook/preface.html)\n",
    "* Qiskit documentation\n",
    "* [MIT OCW lecture notes on Grover's algorithm](https://ocw.mit.edu/courses/mathematics/18-435j-quantum-computation-fall-2003/lecture-notes/qc_lec11.pdf)"
   ]
  },
  {
   "cell_type": "markdown",
   "metadata": {
    "slideshow": {
     "slide_type": "slide"
    }
   },
   "source": [
    "## <center> Acknowledgements </center>\n",
    "* I would like to thank Dr. Priya Nadkarni for helping with preparation and proof reading of the presentation.\n",
    "* I would like to thank my Advisor Prof. Shayan Garani.\n",
    "* I would like to thank IEEE IISc for this opportunity.\n",
    "\n",
    "* I would also like to thank all members of the audience for taking your time to attend this tutorial/talk."
   ]
  },
  {
   "cell_type": "markdown",
   "metadata": {
    "slideshow": {
     "slide_type": "slide"
    }
   },
   "source": [
    "# <center> Thank you! </center>\n",
    "<img src=\"./images/quantum_teleportation_xkcd.png\" width=\"1080\" height=\"900\" align=\"center\"/>"
   ]
  }
 ],
 "metadata": {
  "celltoolbar": "Slideshow",
  "kernelspec": {
   "display_name": "Python 3",
   "language": "python",
   "name": "python3"
  },
  "language_info": {
   "codemirror_mode": {
    "name": "ipython",
    "version": 3
   },
   "file_extension": ".py",
   "mimetype": "text/x-python",
   "name": "python",
   "nbconvert_exporter": "python",
   "pygments_lexer": "ipython3",
   "version": "3.7.6"
  }
 },
 "nbformat": 4,
 "nbformat_minor": 4
}
