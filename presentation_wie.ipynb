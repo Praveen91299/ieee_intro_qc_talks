{
 "cells": [
  {
   "cell_type": "markdown",
   "metadata": {
    "id": "dERdiYJYd0Ww",
    "slideshow": {
     "slide_type": "slide"
    }
   },
   "source": [
    "# <center> Quantum computing 0 - 100 </center>\n",
    "### <center> Dr. Priya J Nadkarni, Xanadu.ai (Independent Contractor) </center>\n",
    "### <center> Praveen J, IISc UG </center>\n",
    "### <center> IEEE IISc, Bangalore </center>\n",
    "\n",
    "<center><img src=\"./images/iisclogo.jpg\" width=\"240\" height=\"240\" align=\"center\"/></center>\n"
   ]
  },
  {
   "cell_type": "markdown",
   "metadata": {
    "id": "sbj7s37Id0Wx",
    "slideshow": {
     "slide_type": "notes"
    }
   },
   "source": [
    "Talk abstract: Quantum computers are around the corner and is right now a fast emerging field with various uses from factoring, sorting and other scientific applications. Today, quantum computers and simulators are\n",
    "accessible by anyone around the world. This tutorial will cover the basic concepts of quantum computing - qubits, quantum gates, the concept of making measurements, preparing bell states, concept of oracles and quantum computing with oracles, Grover’s algorithm and extending it beyond a simple quantum search. We briefly introduce and demonstrate quantum machine learning and demonstrate this through VQE (variational quantum Eigensolvers) that are used to make estimates of energy levels and bond lengths. To conclude the session, we present brief introduction to quantum error correction. All demonstrations and codes will be coded using Qiskit."
   ]
  },
  {
   "cell_type": "markdown",
   "metadata": {
    "id": "a-Ei4VoJd0Wy",
    "slideshow": {
     "slide_type": "slide"
    }
   },
   "source": [
    "# <center> What is quantum computing? </center>\n",
    "*   Systems in which computing is performed by taking advantage of the laws of quantum physics.\n",
    "*    These physical systems allow *Superposition* and *Entanglement*\n",
    "*    Superposition + Entanglement -> Quantum parallelism\n",
    "* Exploiting quantum parallelism, quantum algorithms efficient compared to known classical algorithms could be designed."
   ]
  },
  {
   "cell_type": "markdown",
   "metadata": {
    "id": "0ufG_f0PPvIJ",
    "slideshow": {
     "slide_type": "slide"
    }
   },
   "source": [
    "## Quantum stack\n",
    "<center><img src=\"./images/q_architecture.png\" width=\"900\" height=\"900\" align=\"center\"/></center>\n",
    "(image from fullstackquantumcomputation.tech)"
   ]
  },
  {
   "cell_type": "markdown",
   "metadata": {
    "id": "2fg9lNNpd0Wz",
    "slideshow": {
     "slide_type": "slide"
    }
   },
   "source": [
    "## <center> Quantum simulators </center>\n",
    "\n",
    "\n",
    "*   Physical systems like Ion traps, superconducting circuits, Photonic circuits can be used to perform quantum computation.\n",
    "\n",
    "    *   IBM and Google are developing Superconducting quantum computers\n",
    "    *   Xanadu is developing photonics quantum computing systems\n",
    "    *   IonQ, a quantum startup is developing Ion trap based quantum computers\n",
    "    *   Microsoft is working on topological systems that can be used to perform quantum computation\n",
    "    "
   ]
  },
  {
   "cell_type": "markdown",
   "metadata": {
    "id": "9Caqq5Akd0W0",
    "slideshow": {
     "slide_type": "subslide"
    }
   },
   "source": [
    "*   Quantum systems are linear, and follow linear algebra and thus can be simulated. Some python based simulators:\n",
    "    *   Qiskit by IBM provides both simulators and access to actual quantum computing\n",
    "    *   Cirq by Google quantum\n",
    "    *   Pennylane + Strawberry fields by Xanadu\n",
    "\n",
    "We use Pennylane and qiskit for the rest of the presentation\n",
    "\n",
    "Pennylane installation:"
   ]
  },
  {
   "cell_type": "code",
   "execution_count": null,
   "metadata": {
    "colab": {
     "base_uri": "https://localhost:8080/"
    },
    "id": "uXUGP7B1e_ip",
    "outputId": "a82b83c9-3ba5-46fa-9f6c-07674fb3b4cf",
    "slideshow": {
     "slide_type": "subslide"
    }
   },
   "outputs": [],
   "source": [
    "pip install pennylane"
   ]
  },
  {
   "cell_type": "code",
   "execution_count": null,
   "metadata": {
    "slideshow": {
     "slide_type": "subslide"
    }
   },
   "outputs": [],
   "source": [
    "pip install qiskit"
   ]
  },
  {
   "cell_type": "markdown",
   "metadata": {
    "id": "PvtF6Qa6JQRT",
    "slideshow": {
     "slide_type": "slide"
    }
   },
   "source": [
    "## Devices and experiments:\n",
    "\n",
    "Device refers to a quantum computer or a simulator that performs the computation.\n",
    "\n",
    "An experiment refers to performing quantum gates or state evolution, followed by measurements."
   ]
  },
  {
   "cell_type": "code",
   "execution_count": 23,
   "metadata": {
    "id": "7kJ4Ngx7eo5Z",
    "slideshow": {
     "slide_type": "fragment"
    }
   },
   "outputs": [],
   "source": [
    "import pennylane as qml\n",
    "from pennylane import numpy as np\n",
    "dev1 = qml.device(\"default.qubit\", wires=1)"
   ]
  },
  {
   "cell_type": "markdown",
   "metadata": {
    "id": "vFNXNGewEWNs",
    "slideshow": {
     "slide_type": "subslide"
    }
   },
   "source": [
    "In pennylane, the executable computations are represented as Quantum nodes (Qnodes)\n",
    "\n",
    "Device + circuit => Qnode\n"
   ]
  },
  {
   "cell_type": "code",
   "execution_count": 24,
   "metadata": {
    "colab": {
     "base_uri": "https://localhost:8080/"
    },
    "id": "_8mBrRsoFCKI",
    "outputId": "67d8fff8-cdc7-49dc-9f35-26ba0897193e",
    "slideshow": {
     "slide_type": "fragment"
    }
   },
   "outputs": [
    {
     "name": "stdout",
     "output_type": "stream",
     "text": [
      "2.220446049250313e-16\n"
     ]
    }
   ],
   "source": [
    "def circuit(parameter):\n",
    "    qml.RX(parameter, wires=0)\n",
    "    return qml.expval(qml.PauliZ(0))\n",
    "\n",
    "circ = qml.QNode(circuit, dev1)\n",
    "print(circ(np.pi/2))"
   ]
  },
  {
   "cell_type": "markdown",
   "metadata": {
    "id": "yF3SeUHGJJb9",
    "slideshow": {
     "slide_type": "fragment"
    }
   },
   "source": [
    "Pennylane is designed to make coding quantum machine learning intuitive. Defining parameterized circuits with qnodes is simple and helps integrating with other packages and workflows."
   ]
  },
  {
   "cell_type": "markdown",
   "metadata": {
    "slideshow": {
     "slide_type": "slide"
    }
   },
   "source": [
    "## Working with qiskit\n",
    "\n",
    "Qiskit on the other hand is designed to be versatile for various purposes and is 'pythonic'."
   ]
  },
  {
   "cell_type": "code",
   "execution_count": 25,
   "metadata": {
    "slideshow": {
     "slide_type": "subslide"
    }
   },
   "outputs": [
    {
     "data": {
      "text/html": [
       "<pre style=\"word-wrap: normal;white-space: pre;background: #fff0;line-height: 1.1;font-family: &quot;Courier New&quot;,Courier,monospace\">     ┌─────────┐┌─┐\n",
       "q_0: ┤ RX(π/2) ├┤M├\n",
       "     └─────────┘└╥┘\n",
       "c: 1/════════════╩═\n",
       "                 0 </pre>"
      ],
      "text/plain": [
       "     ┌─────────┐┌─┐\n",
       "q_0: ┤ RX(π/2) ├┤M├\n",
       "     └─────────┘└╥┘\n",
       "c: 1/════════════╩═\n",
       "                 0 "
      ]
     },
     "execution_count": 25,
     "metadata": {},
     "output_type": "execute_result"
    }
   ],
   "source": [
    "#demonstrating superposition\n",
    "\n",
    "#importing requirements\n",
    "from qiskit import QuantumRegister, ClassicalRegister, QuantumCircuit, assemble, Aer\n",
    "from qiskit.visualization import plot_bloch_multivector, plot_histogram\n",
    "\n",
    "#simulator\n",
    "qasmsim = Aer.get_backend('qasm_simulator')\n",
    "\n",
    "qc = QuantumCircuit(1, 1)\n",
    "qc.rx(np.pi/2,qubit = 0)\n",
    "qc.measure(0, 0)\n",
    "qc.draw()"
   ]
  },
  {
   "cell_type": "code",
   "execution_count": 27,
   "metadata": {
    "slideshow": {
     "slide_type": "subslide"
    }
   },
   "outputs": [
    {
     "data": {
      "image/png": "[encoded data removed]",
      "text/plain": [
       "<Figure size 504x360 with 1 Axes>"
      ]
     },
     "execution_count": 27,
     "metadata": {},
     "output_type": "execute_result"
    }
   ],
   "source": [
    "qobj = assemble(qc)\n",
    "counts = qasmsim.run(qobj, shots = 1000).result().get_counts()\n",
    "plot_histogram(counts)"
   ]
  },
  {
   "cell_type": "markdown",
   "metadata": {
    "id": "87oSE95vd0W1",
    "slideshow": {
     "slide_type": "slide"
    }
   },
   "source": [
    "# <center> Quantum States and Superposition </center>\n",
    "\n",
    "\n",
    "*   Classical unit (bit) of information is 0 or 1.\n",
    "*   A quantum bit (qubit) can be simulatenously 0 and 1.\n",
    "* Let us represent state 0 by $\\vert 0 \\rangle$ and 1 by $\\vert 1 \\rangle$, then the superposition is \n",
    "\\begin{align}\n",
    "\\vert\\psi\\rangle = a\\vert 0 \\rangle + b\\vert 1 \\rangle,\n",
    "\\end{align}\n",
    " where $a$ and $b$ are complex numbers.\n",
    "* $a$ and $b$ uniquely define the superposition $\\Rightarrow$ Two-dimensional complex vector $[a~b] \\in \\mathbb{C}^2$.\n",
    "* Measurement affects superposition: Measuring $a\\vert 0 \\rangle + b\\vert 1 \\rangle$ using the standard basis ($\\vert 0 \\rangle, \\vert 1 \\rangle$) gives:\n",
    "\n",
    " Measurement outcome $\\vert 0 \\rangle$ with probability $|a|^2$\n",
    "\n",
    " Measurement outcome $\\vert 1 \\rangle$ with probability $|b|^2$\n",
    "\n",
    " * As probabilities add up to 1, $|a|^2+|b|^2=1$ $\\Rightarrow$ $[a~b]$ is a normalized vector."
   ]
  },
  {
   "cell_type": "markdown",
   "metadata": {
    "id": "87oSE95vd0W1",
    "slideshow": {
     "slide_type": "subslide"
    }
   },
   "source": [
    "* For n qubits, the superposition is $\\underset{i_1, \\dots, i_n=0}{\\overset{1}{\\sum}} a_{i_1\\dots i_n}\\vert i_1 \\rangle\\dots \\vert i_n \\rangle = \\underset{i_1, \\dots, i_n=0}{\\overset{1}{\\sum}} a_{i_1\\dots i_n}\\vert i_1 \\dots i_n \\rangle$\n",
    "\n",
    "* For example, for 2 qubits, the basis states are $\\vert 00 \\rangle$, $\\vert 01 \\rangle$, $\\vert 10 \\rangle$, and $\\vert 11 \\rangle$. Thus,\n",
    "\\begin{align}\n",
    "\\vert\\psi\\rangle = a_{00}\\vert 00 \\rangle + a_{01}\\vert 01 \\rangle + a_{10}\\vert 10 \\rangle + a_{11}\\vert 11 \\rangle,\n",
    "\\end{align}\n",
    "where $[a_{00}~a_{01}~a_{10}~a_{11}]$ is a normalized vector."
   ]
  },
  {
   "cell_type": "code",
   "execution_count": 28,
   "metadata": {
    "colab": {
     "base_uri": "https://localhost:8080/"
    },
    "id": "TRieNIBad0W1",
    "outputId": "5b1c3d22-476e-415e-d126-b5a5c3f47555",
    "slideshow": {
     "slide_type": "subslide"
    }
   },
   "outputs": [
    {
     "name": "stdout",
     "output_type": "stream",
     "text": [
      "0.0\n"
     ]
    }
   ],
   "source": [
    "#demonstrating superposition\n",
    "\n",
    "#importing requirements\n",
    "from pennylane import numpy as np\n",
    "import sys\n",
    "\n",
    "def simple_circuit():\n",
    "    qml.Hadamard(wires=0)\n",
    "    return qml.expval(qml.PauliZ(0))\n",
    "\n",
    "circ = qml.QNode(simple_circuit, dev1)\n",
    "print(circ())"
   ]
  },
  {
   "cell_type": "code",
   "execution_count": 29,
   "metadata": {
    "id": "YvKfQvcPd0W3",
    "slideshow": {
     "slide_type": "subslide"
    }
   },
   "outputs": [],
   "source": [
    "#to obtain probabilities of measurement\n",
    "\n",
    "def simple_circuit_probs():\n",
    "    qml.Hadamard(wires=0)\n",
    "    return qml.probs(wires=[0])\n",
    "\n",
    "circ2 = qml.QNode(simple_circuit_probs, dev1)\n",
    "probs1 = circ2()"
   ]
  },
  {
   "cell_type": "code",
   "execution_count": 30,
   "metadata": {
    "colab": {
     "base_uri": "https://localhost:8080/",
     "height": 336
    },
    "id": "BPna6aIgzvIa",
    "outputId": "b034a4ff-b627-473b-b7ca-34f278480f93",
    "slideshow": {
     "slide_type": "subslide"
    }
   },
   "outputs": [
    {
     "data": {
      "image/png": "[encoded data removed]",
      "text/plain": [
       "<Figure size 432x288 with 1 Axes>"
      ]
     },
     "metadata": {
      "needs_background": "light"
     },
     "output_type": "display_data"
    }
   ],
   "source": [
    "#plotting histogram\n",
    "\n",
    "import matplotlib.pyplot as plt\n",
    "\n",
    "int2bin = lambda n, m: bin(n)[2:].zfill(m)\n",
    "\n",
    "def plot_hist_probs(probs):\n",
    "    fig = plt.figure()\n",
    "    ax = fig.add_axes([0,0,1,1])\n",
    "    l = len(range(probs.shape[0]))\n",
    "    m = int(np.log2(l))\n",
    "    value = [int2bin(i, m) for i in range(l)]\n",
    "    ax.bar(value,probs)\n",
    "    plt.show()\n",
    "\n",
    "plot_hist_probs(probs1)"
   ]
  },
  {
   "cell_type": "markdown",
   "metadata": {
    "id": "pjXlMtdRd0W4",
    "slideshow": {
     "slide_type": "fragment"
    }
   },
   "source": [
    "Almost equal probablity 0.5 of each state 0 and 1 is achieved. Hence equal distribution of +1 and -1, yielding zero expectation value."
   ]
  },
  {
   "cell_type": "code",
   "execution_count": null,
   "metadata": {
    "colab": {
     "base_uri": "https://localhost:8080/",
     "height": 367
    },
    "id": "kkUa4R1fd0W4",
    "outputId": "a44ac028-5ce3-4875-8a9a-b31c71d859e4",
    "slideshow": {
     "slide_type": "notes"
    }
   },
   "outputs": [],
   "source": [
    "# Implementing a circuit on the IBMq systems\n",
    "from qiskit import IBMQ, transpile\n",
    "\n",
    "# IBMQ.save_account(TOKEN)\n",
    "IBMQ.load_account() # Load account from disk\n",
    "IBMQ.providers()    # List all available providers"
   ]
  },
  {
   "cell_type": "code",
   "execution_count": null,
   "metadata": {
    "id": "pGCYw5dMd0W5",
    "outputId": "486b7125-36d1-4f44-d57d-45ee3a3bbfa9",
    "slideshow": {
     "slide_type": "notes"
    }
   },
   "outputs": [],
   "source": [
    "# provider  -> backend (device) -> Run transpiled circuit\n",
    "\n",
    "provider = IBMQ.get_provider(hub='ibm-q', group='open', project='main')\n",
    "backend = provider.get_backend('ibmq_manila')\n",
    "\n",
    "# hardware is configured and optimised to certain gates. \n",
    "qc_transpiled = transpile(qc, backend=backend)\n",
    "counts = backend.run(qc_transpiled, shots = 1000).result().get_counts()\n",
    "plot_histogram(counts)"
   ]
  },
  {
   "cell_type": "code",
   "execution_count": null,
   "metadata": {
    "id": "pgnLSCEwd0W6",
    "slideshow": {
     "slide_type": "notes"
    }
   },
   "outputs": [],
   "source": [
    "backend.configuration().basis_gates"
   ]
  },
  {
   "cell_type": "code",
   "execution_count": null,
   "metadata": {
    "slideshow": {
     "slide_type": "notes"
    }
   },
   "outputs": [],
   "source": [
    "#from here - Priya"
   ]
  },
  {
   "cell_type": "markdown",
   "metadata": {
    "id": "EOSFujHXd0W7",
    "slideshow": {
     "slide_type": "slide"
    }
   },
   "source": [
    "## <center> Quantum Gates </center>\n",
    "\n",
    "* Quantum dynamics is linear + States are normalized $\\Rightarrow$ Quantum operators are unitary ($UU^{\\dagger} = U^{\\dagger}U = \\mathrm{I}$)\n",
    "* Unitary gates $\\Rightarrow$ Reversible computation.\n",
    "* States: Normalized two-dimensional complex vectors $\\Rightarrow$ Operators: Unitary $(2\\times 2)$-dimensional complex matrices.\n",
    "* Unitary gates on superposition: $U(a\\vert 0 \\rangle+b\\vert 1 \\rangle) = aU\\vert 0 \\rangle+bU\\vert 1 \\rangle$"
   ]
  },
  {
   "cell_type": "markdown",
   "metadata": {
    "id": "8aYDl2Fgd0W7",
    "slideshow": {
     "slide_type": "subslide"
    }
   },
   "source": [
    "* A few quantum gates:\n",
    "    * X gate or Bit flip gate:\n",
    "      \\begin{align}\n",
    "      \\mathrm{X} = \\begin{bmatrix}0 & 1\\\\1 & 0\\end{bmatrix}, \\mathrm{X}\\vert 0 \\rangle = \\vert 1 \\rangle, \\mathrm{X}\\vert 1 \\rangle = \\vert 0 \\rangle.\n",
    "      \\end{align}\n",
    "    * Z gate or Phase flip gate:\n",
    "      \\begin{align}\n",
    "      \\mathrm{Z} = \\begin{bmatrix}1 & 0\\\\0 & -1\\end{bmatrix}, \\mathrm{Z}\\vert 0 \\rangle = \\vert 0 \\rangle, \\mathrm{Z}\\vert 1 \\rangle = -\\vert 1 \\rangle.\n",
    "      \\end{align}\n",
    "    * H gate or Hadamard gate:\n",
    "  \\begin{align}\n",
    "  \\mathrm{H} = \\frac{1}{\\sqrt{2}}\\begin{bmatrix}1 & 1\\\\1 & -1\\end{bmatrix}, \\mathrm{H}\\vert 0 \\rangle = \\frac{\\vert 0 \\rangle + \\vert 1 \\rangle}{\\sqrt{2}} := \\vert + \\rangle, \\mathrm{H}\\vert 1 \\rangle = \\frac{\\vert 0 \\rangle - \\vert 1 \\rangle}{\\sqrt{2}} := \\vert - \\rangle.\n",
    "  \\end{align}\n",
    "\n",
    "Notice that $HZH = X$ and eigen states of $Z$ are $\\vert 0\\rangle$, $\\vert 1 \\rangle$, while eigen states of $X$ are $\\vert +\\rangle$, $\\vert - \\rangle$."
   ]
  },
  {
   "cell_type": "markdown",
   "metadata": {
    "id": "h7VHst05d0W-",
    "slideshow": {
     "slide_type": "subslide"
    }
   },
   "source": [
    "### Few other gates\n",
    "\n",
    "* S gate or Phase gate:\n",
    "  \\begin{align}\n",
    "  \\mathrm{S} = \\begin{bmatrix}1 & 0\\\\0 & \\mathrm{i}\\end{bmatrix}, \\mathrm{S}\\vert 0 \\rangle = \\vert 0 \\rangle, \\mathrm{S}\\vert 1 \\rangle = \\mathrm{i}\\vert 1 \\rangle.\n",
    "  \\end{align}\n",
    "      "
   ]
  },
  {
   "cell_type": "markdown",
   "metadata": {
    "id": "CvsVem4Kd0W_",
    "slideshow": {
     "slide_type": "fragment"
    }
   },
   "source": [
    "* CNOT gate or Controlled-NOT gate: (2 qubit gate)\n",
    "  \\begin{align}\n",
    "  \\mathrm{CNOT} &= \\begin{bmatrix}1 & 0 & 0 & 0\\\\0 & 1 & 0 & 0\\\\ 0 & 0 & 0 & 1\\\\ 0 & 0 & 1 & 0\\end{bmatrix}, \\\\\n",
    "  \\mathrm{CNOT}\\vert 00 \\rangle = \\vert 00 \\rangle, &\\mathrm{CNOT}\\vert 01 \\rangle = \\vert 01 \\rangle, \\mathrm{CNOT}\\vert 10 \\rangle = \\vert 11 \\rangle, \\mathrm{CNOT}\\vert 11 \\rangle = \\vert 10 \\rangle.\n",
    "  \\end{align}\n",
    "\n",
    "  Controlled-NOT because the NOT operation, i.e., the X operation, is performed on 2nd qubit only when 1st qubit is $\\vert 1\\rangle$, else, no operation is performed. \n",
    "* Universal set of gates: All one qubit gates + CNOT."
   ]
  },
  {
   "cell_type": "markdown",
   "metadata": {
    "id": "UJVVw9WWK7Cp",
    "slideshow": {
     "slide_type": "slide"
    }
   },
   "source": [
    "## <center> Pauli Basis </center>\n",
    "\n",
    "* Pauli basis is a unitary basis of the complex space of matrices:\n",
    "\\begin{align}\n",
    "\\text{Pauli Basis =} \\left\\{ \\mathrm{I} = \\begin{bmatrix}1 & 0\\\\0 & 1\\end{bmatrix}, \\mathrm{X} = \\begin{bmatrix}0 & 1\\\\1 & 0\\end{bmatrix}, \\mathrm{Z} = \\begin{bmatrix}1 & 0\\\\0 & -1\\end{bmatrix}, \\mathrm{Y} = \\begin{bmatrix}0 & -\\mathrm{i}\\\\\\mathrm{i} & 0\\end{bmatrix} = \\mathrm{iXZ}\\right\\}.\n",
    "\\end{align}\n",
    "* All quantum operators can be represented in terms of the Pauli basis.\n",
    "* Pauli Group:\n",
    "\\begin{align}\n",
    "\\mathcal{P} = \\left\\{ \\pm \\mathrm{I}, \\pm \\mathrm{iI}, \\pm \\mathrm{X}, \\pm \\mathrm{iX}, \\pm \\mathrm{Y}, \\pm \\mathrm{iY}, \\pm \\mathrm{Z}, \\pm \\mathrm{iZ} \\right\\}.\n",
    "\\end{align}"
   ]
  },
  {
   "cell_type": "markdown",
   "metadata": {
    "id": "sfd9igMEd0W8",
    "slideshow": {
     "slide_type": "slide"
    }
   },
   "source": [
    "### Measurement\n",
    "\n",
    "* We had measured in the $\\vert 0 \\rangle$, $\\vert 1 \\rangle$ basis. In general, we can choose to measure in any (orthogonal) basis states and we would obtain different final results.\n",
    "  * Measuring $a\\vert 0 \\rangle + b\\vert 1 \\rangle$ using the standard basis ($\\vert 0 \\rangle, \\vert 1 \\rangle$) gives:\n",
    "    \n",
    "      Measurement outcome $\\vert 0 \\rangle$ with probability $|a|^2$\n",
    "\n",
    "      Measurement outcome $\\vert 1 \\rangle$ with probability $|b|^2$\n",
    "\n",
    "  * Measuring $a\\vert 0 \\rangle + b\\vert 1 \\rangle$ using $\\vert + \\rangle, \\vert - \\rangle$ basis gives:\n",
    "\n",
    "     Measurement outcome $\\vert + \\rangle$ with probability $|\\frac{a + b}{\\sqrt{2}}|^2$\n",
    "\n",
    "     Measurement outcome $\\vert - \\rangle$ with probability $|\\frac{a - b}{\\sqrt{2}}|^2$"
   ]
  },
  {
   "cell_type": "markdown",
   "metadata": {
    "id": "sfd9igMEd0W8",
    "slideshow": {
     "slide_type": "subslide"
    }
   },
   "source": [
    "* Measurement based on an observable:\n",
    "  * Quantum Mechanics Postulate: Every measurement is associated with an observable $O$ and the values observed are the eigenvalues of the observable $O$.\n",
    "  \\begin{align}\n",
    "  O\\vert \\psi\\rangle = e\\vert \\psi\\rangle , \\text{ where }e\\text{ is the eigenvalue of $O$ observed.}\n",
    "  \\end{align}\n",
    "  * As only real values can be observed $\\Rightarrow$ Observables are Hermitian.\n",
    "  * Measurement basis in terms of observable:\n",
    "    * Measuring the Pauli-Z operator:\n",
    "        * Eigenbasis of Pauli-Z has $\\vert 0\\rangle$ (Eigenvalue =1) and $\\vert 1\\rangle$(Eigenvalue =-1).\n",
    "        \\begin{align}\n",
    "          \\mathrm{Z}\\vert 0\\rangle = \\vert 0\\rangle, \\mathrm{Z}\\vert 1\\rangle = -\\vert 1\\rangle\n",
    "        \\end{align}\n",
    "    * Measuring the Pauli-X operator:\n",
    "       * Eigenbasis of Pauli-X has $\\vert +\\rangle$ (Eigenvalue =1) and $\\vert -\\rangle$(Eigenvalue =-1).\n",
    "        \\begin{align}\n",
    "          \\mathrm{X}\\vert +\\rangle = \\vert +\\rangle, \\mathrm{X}\\vert -\\rangle = -\\vert -\\rangle\n",
    "        \\end{align}"
   ]
  },
  {
   "cell_type": "markdown",
   "metadata": {
    "id": "GoI4BvNJd0W_",
    "slideshow": {
     "slide_type": "slide"
    }
   },
   "source": [
    "## <center> Bloch Sphere </center>\n",
    "\n",
    "* A qubit: $\\vert \\psi \\rangle = a \\vert 0\\rangle + b\\vert 1 \\rangle$.\n",
    "\n",
    "  As $|a|^2 + |b|^2 = 1$, let $a = |a| e^{i\\phi_0}$ and $b = |b| e^{i\\phi_1}$, then\n",
    "\n",
    "\\begin{align}\n",
    "\\vert \\psi \\rangle &= a \\vert 0\\rangle + b\\vert 1 \\rangle = |a| e^{i\\phi_0}\\vert 0\\rangle + |b| e^{i\\phi_1} \\vert 1 \\rangle\\\\\n",
    "\\vert \\psi \\rangle &= e^{i\\phi_0}(|a| \\vert 0\\rangle + |b| e^{i(\\phi_1-\\phi_0)} \\vert 1 \\rangle)\\\\\n",
    "\\vert \\psi \\rangle &= e^{i\\phi_0}(\\mathrm{cos}~ \\theta \\vert 0\\rangle + \\mathrm{sin} ~\\theta e^{i\\phi} \\vert 1 \\rangle),\n",
    "\\end{align}\n",
    "where $\\phi = \\phi_0-\\phi_1$, $|a|=\\mathrm{cos}~ \\theta$, and $|b|=\\mathrm{sin}~ \\theta$."
   ]
  },
  {
   "cell_type": "markdown",
   "metadata": {
    "id": "CaB_-IG5d0XA",
    "slideshow": {
     "slide_type": "subslide"
    }
   },
   "source": [
    "* Bloch sphere: A sphere with spherical coordinates $[1,\\theta,\\phi]$ (Radius is 1 as the state is normalized).\n",
    "* Pure states: On the surface of the Bloch sphere\n",
    "* Mixed states: Inside the bloch sphere\n",
    "\n",
    "<img src=\"./images/Bloch_sphere.png\" width=\"400\" height=\"400\" align=\"center\"/>"
   ]
  },
  {
   "cell_type": "code",
   "execution_count": 31,
   "metadata": {
    "colab": {
     "base_uri": "https://localhost:8080/",
     "height": 376
    },
    "id": "ES57Llbdd0XA",
    "outputId": "a9147aad-a1fb-43a3-ff14-58d353c6995b",
    "slideshow": {
     "slide_type": "subslide"
    }
   },
   "outputs": [
    {
     "name": "stderr",
     "output_type": "stream",
     "text": [
      "/home/praveen/anaconda3/lib/python3.7/site-packages/qiskit/visualization/bloch.py:69: MatplotlibDeprecationWarning: \n",
      "The M attribute was deprecated in Matplotlib 3.4 and will be removed two minor releases later. Use self.axes.M instead.\n",
      "  x_s, y_s, _ = proj3d.proj_transform(xs3d, ys3d, zs3d, renderer.M)\n"
     ]
    },
    {
     "data": {
      "image/png": "[encoded data removed]",
      "text/plain": [
       "<Figure size 288x288 with 1 Axes>"
      ]
     },
     "execution_count": 31,
     "metadata": {},
     "output_type": "execute_result"
    }
   ],
   "source": [
    "# bloch sphere representation demonstration\n",
    "from numpy import pi\n",
    "from qiskit.quantum_info import Statevector\n",
    "from qiskit import QuantumRegister, ClassicalRegister, QuantumCircuit, assemble, Aer\n",
    "from qiskit.visualization import plot_bloch_multivector, plot_histogram\n",
    "\n",
    "%matplotlib inline\n",
    "\n",
    "statesim = Aer.get_backend('statevector_simulator')\n",
    "\n",
    "q = QuantumCircuit(1)\n",
    "q.u3(pi/2, pi/2, 0, 0)\n",
    "\n",
    "state = Statevector.from_instruction(q)\n",
    "plot_bloch_multivector(state)"
   ]
  },
  {
   "cell_type": "markdown",
   "metadata": {
    "id": "-4rzw_z9d0XB",
    "slideshow": {
     "slide_type": "slide"
    }
   },
   "source": [
    "## <center> Entanglement </center>\n",
    "\n",
    "* Two states are entangled when the state of one qubit cannot be described independently of the other.\n",
    "* Entanglement $\\Rightarrow$ Correlation between particle irrespective of the distance between them\n",
    "* Entanglement cannot be created locally. \n",
    "* Example: Bell state: $(\\vert 00\\rangle + \\vert 11\\rangle)/\\sqrt{2}$. \n"
   ]
  },
  {
   "cell_type": "code",
   "execution_count": 32,
   "metadata": {
    "id": "oNcPpK-2d0XB",
    "outputId": "0ed0f81d-64ad-4a0b-de70-24febf808664",
    "slideshow": {
     "slide_type": "subslide"
    }
   },
   "outputs": [
    {
     "name": "stdout",
     "output_type": "stream",
     "text": [
      " 0: ──H──╭C──╭┤ Probs \n",
      " 1: ─────╰X──╰┤ Probs \n",
      "\n"
     ]
    }
   ],
   "source": [
    "# bell state\n",
    "dev2 = qml.device(\"default.qubit\", wires=2)\n",
    "\n",
    "def bell_state():\n",
    "    qml.Hadamard(wires=0)\n",
    "    qml.CNOT(wires=[0, 1])\n",
    "    return qml.probs(wires=[0, 1])\n",
    "\n",
    "circ_bell = qml.QNode(bell_state, dev2)\n",
    "probs2 = circ_bell()\n",
    "    \n",
    "drawer = qml.draw(circ_bell)\n",
    "print(drawer())"
   ]
  },
  {
   "cell_type": "code",
   "execution_count": 33,
   "metadata": {
    "id": "dju9aISrd0XB",
    "outputId": "1afe3325-018e-472c-f848-9bd2516a5c35",
    "slideshow": {
     "slide_type": "subslide"
    }
   },
   "outputs": [
    {
     "data": {
      "image/png": "[encoded data removed]",
      "text/plain": [
       "<Figure size 432x288 with 1 Axes>"
      ]
     },
     "metadata": {
      "needs_background": "light"
     },
     "output_type": "display_data"
    }
   ],
   "source": [
    "plot_hist_probs(probs2)"
   ]
  },
  {
   "cell_type": "markdown",
   "metadata": {
    "id": "BZzzIcNgd0XC",
    "slideshow": {
     "slide_type": "subslide"
    }
   },
   "source": [
    "* Applications: \n",
    "   * Quantum teleportation: Transfer information in one qubit using one Bell pair and transmitting two classical bits over a classical channel.\n",
    "   * Super dense coding: Transfer two classical bits using one Bell pair where one qubit of the Bell pair is transmitted over the quantum channel.\n",
    "   * Quantum error correction: Due to No cloning theorem, quantum information cannot be copied. Store quantum information redundantly using entanglement making error correction possible. \n",
    "* Mixed state: Ensemble representation of a qubit in an entangled state:\n",
    "\n",
    "<center> First qubit of Bell state: $\\rho = \\{(0.5,\\vert 0\\rangle), (0.5,\\vert 1\\rangle)\\}$.<center>"
   ]
  },
  {
   "cell_type": "markdown",
   "metadata": {
    "id": "eifwqLOQ26rA",
    "slideshow": {
     "slide_type": "slide"
    }
   },
   "source": [
    "## <center> Types of Communication </center>\n",
    "\n",
    "  \\begin{array}{|c|c|c|c|}\\hline\\\\ \n",
    "  \\text{Information} & \\text{States transmitted} & \\text{Channel} & \\text{Example} \\\\ \\hline\\\\\n",
    "  \\text{Classical} & \\text{Classical} & \\text{Classical} & \\text{Classical Communication}\\\\ \\hline\\\\ \n",
    "  \\text{Quantum} & \\text{Quantum }  & \\text{Quantum} & \\text{Quantum Communication}\\\\ \\hline\\\\ \n",
    "    \\text{Classical} & \\text{Quantum} (\\text{Basis states}) & \\text{Quantum} & \\text{Quantum Key Distribution}\\\\ \\hline \\\\\n",
    "        \\text{Quantum} & \\text{Classical } (\\text{with Bell pairs}) & \\text{Classical} & \\text{Quantum Teleportation}\\\\ \\hline \\\\\n",
    "        \\text{Classical} & \\text{Quantum } (\\text{with Bell pairs})  & \\text{Quantum} & \\text{Super Dense Coding}\\\\ \\hline\n",
    "  \\end{array}\n"
   ]
  },
  {
   "cell_type": "markdown",
   "metadata": {
    "id": "0wTCbcIJ2Wtn",
    "slideshow": {
     "slide_type": "slide"
    }
   },
   "source": [
    "## <center> Quantum Teleportation </center>\n",
    "\n",
    "* Transfering quantum information from one place to another without using any quantum channel between them.\n",
    "* We will be using the following:\n",
    "  * Transmission of two classical bits over the classical channel\n",
    "  * Pre-shared Bell Pair between the transmitter and the receiver.\n",
    "  * Local quantum gates (H, X, Z, and CNOT)\n",
    "* Bell Basis:\n",
    "  \\begin{align}\n",
    "    \\vert \\phi^+\\rangle = \\frac{\\vert 00\\rangle + \\vert 11\\rangle}{\\sqrt{2}},~\n",
    "    \\vert \\phi^-\\rangle = \\frac{\\vert 00\\rangle - \\vert 11\\rangle}{\\sqrt{2}},~\n",
    "    \\vert \\psi^+\\rangle = \\frac{\\vert 01\\rangle + \\vert 10\\rangle}{\\sqrt{2}},~\n",
    "    \\vert \\psi^-\\rangle = \\frac{\\vert 01\\rangle - \\vert 10\\rangle}{\\sqrt{2}}\\\\\n",
    "  \\end{align}\n",
    "  Commonly used Bell Pair (also called EPR Pair) is $\\vert \\phi^+\\rangle$.\n",
    "  Bell basis is an orthonormal basis.\n",
    "* Protocol is important: For a quantum state $\\vert \\psi\\rangle = a\\vert 0\\rangle + b\\vert 1\\rangle$, $a,b \\in \\mathbb{C}$:\n",
    "  * a,b are usually not known\n",
    "  * If can be known, to accurately transmit information about a and b using bits - might need infinite transmission.\n",
    "\n"
   ]
  },
  {
   "cell_type": "markdown",
   "metadata": {
    "id": "kPDk-iZAd-BD",
    "slideshow": {
     "slide_type": "slide"
    }
   },
   "source": [
    "## <center> Quantum Teleportation Protocol</center>\n",
    "\n",
    "![](./images/T1.png)"
   ]
  },
  {
   "cell_type": "markdown",
   "metadata": {
    "id": "kPDk-iZAd-BD",
    "slideshow": {
     "slide_type": "slide"
    }
   },
   "source": [
    "## <center> Quantum Teleportation Protocol</center>\n",
    "\n",
    "![](./images/T2.png)"
   ]
  },
  {
   "cell_type": "markdown",
   "metadata": {
    "id": "kPDk-iZAd-BD",
    "slideshow": {
     "slide_type": "slide"
    }
   },
   "source": [
    "## <center> Quantum Teleportation Protocol</center>\n",
    "\n",
    "![](./images/T3.png)"
   ]
  },
  {
   "cell_type": "markdown",
   "metadata": {
    "id": "kPDk-iZAd-BD",
    "slideshow": {
     "slide_type": "slide"
    }
   },
   "source": [
    "## <center> Quantum Teleportation Protocol</center>\n",
    "\n",
    "![](./images/T4.png)"
   ]
  },
  {
   "cell_type": "markdown",
   "metadata": {
    "id": "kPDk-iZAd-BD",
    "slideshow": {
     "slide_type": "slide"
    }
   },
   "source": [
    "## <center> Quantum Teleportation Protocol</center>\n",
    "\n",
    "![](./images/T5.png)"
   ]
  },
  {
   "cell_type": "markdown",
   "metadata": {
    "id": "kPDk-iZAd-BD",
    "slideshow": {
     "slide_type": "slide"
    }
   },
   "source": [
    "## <center> Quantum Teleportation Protocol</center>\n",
    "\n",
    "![](./images/T6.png)"
   ]
  },
  {
   "cell_type": "markdown",
   "metadata": {
    "id": "kPDk-iZAd-BD",
    "slideshow": {
     "slide_type": "slide"
    }
   },
   "source": [
    "## <center> Quantum Teleportation Protocol</center>\n",
    "\n",
    "![](./images/T7.png)"
   ]
  },
  {
   "cell_type": "markdown",
   "metadata": {
    "id": "kPDk-iZAd-BD",
    "slideshow": {
     "slide_type": "slide"
    }
   },
   "source": [
    "## <center> Quantum Teleportation Protocol</center>\n",
    "\n",
    "![](./images/T8.png)"
   ]
  },
  {
   "cell_type": "markdown",
   "metadata": {
    "id": "kPDk-iZAd-BD",
    "slideshow": {
     "slide_type": "slide"
    }
   },
   "source": [
    "## <center> Quantum Teleportation Protocol</center>\n",
    "\n",
    "![](./images/T9.png)"
   ]
  },
  {
   "cell_type": "markdown",
   "metadata": {
    "id": "kPDk-iZAd-BD",
    "slideshow": {
     "slide_type": "slide"
    }
   },
   "source": [
    "## <center> Quantum Teleportation Protocol</center>\n",
    "\n",
    "![](./images/T10.png)"
   ]
  },
  {
   "cell_type": "code",
   "execution_count": null,
   "metadata": {
    "colab": {
     "base_uri": "https://localhost:8080/",
     "height": 268
    },
    "id": "OcP-e_Q3xdll",
    "outputId": "35c1107b-0fbb-40cd-b17e-ec4035a930e5",
    "slideshow": {
     "slide_type": "skip"
    }
   },
   "outputs": [],
   "source": [
    "# quantum teleportation implementation\n",
    "\n",
    "import numpy as np\n",
    "from qiskit import QuantumCircuit, QuantumRegister, ClassicalRegister\n",
    "from qiskit import IBMQ, Aer, transpile, assemble\n",
    "from qiskit.visualization import plot_histogram, plot_bloch_multivector, array_to_latex\n",
    "from qiskit.extensions import Initialize\n",
    "\n",
    "\n",
    "psi = [1/np.sqrt(2),1/np.sqrt(2)] \n",
    "\n",
    "\n",
    "QT = QuantumRegister(3, name=\"q\")    # Defining the 3 qubits\n",
    "M1 = ClassicalRegister(1, name=\"m1\") # Defining 2 classical bits to store the measurement results\n",
    "M2 = ClassicalRegister(1, name=\"m2\")\n",
    "QT_circuit = QuantumCircuit(QT, M1, M2)\n",
    "\n",
    "\n",
    "\n",
    "#Create a Bell pair between qubits 2 and 3\n",
    "QT_circuit.h(1)\n",
    "QT_circuit.cx(1,2)\n",
    "\n",
    "QT_circuit.barrier() # Using a barrier to show that the Bell pair was created long before the teleportation"
   ]
  },
  {
   "cell_type": "code",
   "execution_count": null,
   "metadata": {
    "colab": {
     "base_uri": "https://localhost:8080/",
     "height": 268
    },
    "id": "OcP-e_Q3xdll",
    "outputId": "35c1107b-0fbb-40cd-b17e-ec4035a930e5",
    "slideshow": {
     "slide_type": "skip"
    }
   },
   "outputs": [],
   "source": [
    "# To initialize the first qubit to a |+> state\n",
    "QT_circuit.h(0)\n",
    "QT_circuit.barrier()\n",
    "\n",
    "#Apply the CNOT and H gates on the transmitter end\n",
    "QT_circuit.cx(0,1)\n",
    "QT_circuit.h(0)\n",
    "\n",
    "# Measure the two transmitter end qubits\n",
    "\n",
    "QT_circuit.measure(0,0)\n",
    "QT_circuit.measure(1,1)"
   ]
  },
  {
   "cell_type": "code",
   "execution_count": null,
   "metadata": {
    "colab": {
     "base_uri": "https://localhost:8080/",
     "height": 268
    },
    "id": "OcP-e_Q3xdll",
    "outputId": "35c1107b-0fbb-40cd-b17e-ec4035a930e5",
    "slideshow": {
     "slide_type": "skip"
    }
   },
   "outputs": [],
   "source": [
    "# Based on the measurement outcomes, Bob applies the X and Z gates\n",
    "\n",
    "QT_circuit.x(2).c_if(M2, 1)\n",
    "QT_circuit.z(2).c_if(M1, 1)\n",
    "\n",
    "#Draw the teleportation circuit\n",
    "QT_circuit.draw()\n",
    "\n",
    "#Run a quantum simulation for teleportation\n",
    "sim = Aer.get_backend('aer_simulator')\n",
    "QT_circuit.save_statevector()\n",
    "out_vector = sim.run(QT_circuit).result().get_statevector()\n",
    "plot_bloch_multivector(out_vector)"
   ]
  },
  {
   "cell_type": "code",
   "execution_count": 34,
   "metadata": {
    "colab": {
     "base_uri": "https://localhost:8080/",
     "height": 202
    },
    "id": "E5KoUfqc59hZ",
    "outputId": "3fbfad75-7d53-4f3a-919a-6008c2a9755a",
    "slideshow": {
     "slide_type": "subslide"
    }
   },
   "outputs": [
    {
     "data": {
      "text/html": [
       "<pre style=\"word-wrap: normal;white-space: pre;background: #fff0;line-height: 1.1;font-family: &quot;Courier New&quot;,Courier,monospace\">                 ░ ┌───┐ ░      ┌───┐┌─┐               ░ \n",
       " q_0: ───────────░─┤ H ├─░───■──┤ H ├┤M├───────────────░─\n",
       "      ┌───┐      ░ └───┘ ░ ┌─┴─┐└┬─┬┘└╥┘               ░ \n",
       " q_1: ┤ H ├──■───░───────░─┤ X ├─┤M├──╫────────────────░─\n",
       "      └───┘┌─┴─┐ ░       ░ └───┘ └╥┘  ║  ┌───┐  ┌───┐  ░ \n",
       " q_2: ─────┤ X ├─░───────░────────╫───╫──┤ X ├──┤ Z ├──░─\n",
       "           └───┘ ░       ░        ║   ║  └─╥─┘  └─╥─┘  ░ \n",
       "                                  ║   ║    ║   ┌──╨──┐   \n",
       "m1: 1/════════════════════════════╬═══╩════╬═══╡ = 1 ╞═══\n",
       "                                  ║   0 ┌──╨──┐└─────┘   \n",
       "m2: 1/════════════════════════════╩═════╡ = 1 ╞══════════\n",
       "                                  0     └─────┘          </pre>"
      ],
      "text/plain": [
       "                 ░ ┌───┐ ░      ┌───┐┌─┐               ░ \n",
       " q_0: ───────────░─┤ H ├─░───■──┤ H ├┤M├───────────────░─\n",
       "      ┌───┐      ░ └───┘ ░ ┌─┴─┐└┬─┬┘└╥┘               ░ \n",
       " q_1: ┤ H ├──■───░───────░─┤ X ├─┤M├──╫────────────────░─\n",
       "      └───┘┌─┴─┐ ░       ░ └───┘ └╥┘  ║  ┌───┐  ┌───┐  ░ \n",
       " q_2: ─────┤ X ├─░───────░────────╫───╫──┤ X ├──┤ Z ├──░─\n",
       "           └───┘ ░       ░        ║   ║  └─╥─┘  └─╥─┘  ░ \n",
       "                                  ║   ║    ║   ┌──╨──┐   \n",
       "m1: 1/════════════════════════════╬═══╩════╬═══╡ = 1 ╞═══\n",
       "                                  ║   0 ┌──╨──┐└─────┘   \n",
       "m2: 1/════════════════════════════╩═════╡ = 1 ╞══════════\n",
       "                                  0     └─────┘          "
      ]
     },
     "execution_count": 34,
     "metadata": {},
     "output_type": "execute_result"
    }
   ],
   "source": [
    "QT_circuit.draw()"
   ]
  },
  {
   "cell_type": "markdown",
   "metadata": {
    "id": "nfvY7M43wd8L",
    "slideshow": {
     "slide_type": "subslide"
    }
   },
   "source": [
    "  ## <center> Quantum Teleportation: Few comments</center>\n",
    "\n",
    "  * Communication is not faster than speed of light as classical communication is required to teleport the state to the other end.\n",
    "  * No violation of no-cloning theorem: The receiver end obtains the quantum information when the transmitter end state is measured.\n",
    "  * Gate-teleportation: Quantum gates applied to quantum states via teleportation -> Leads to Teleportation based quantum computation."
   ]
  },
  {
   "cell_type": "markdown",
   "metadata": {
    "id": "M4AvJW5b2dba",
    "slideshow": {
     "slide_type": "slide"
    }
   },
   "source": [
    "## <center> Super Dense Coding </center>\n",
    "\n",
    "* Transmission of two classical bits with one qubit and without any classical channel.\n",
    "* We will be using the following:\n",
    "  * Transmission of one quantum bit over the quantum channel\n",
    "  * Pre-shared Bell Pair between the transmitter and the receiver.\n",
    "  * Local quantum gates (H, X, Z, and CNOT)\n",
    "* Caveat: As we are considering a pre-shared Bell pair, one qubit has been transmitted over the quantum channel in the past.\n"
   ]
  },
  {
   "cell_type": "markdown",
   "metadata": {
    "id": "OBhg0m1UAkNo",
    "slideshow": {
     "slide_type": "subslide"
    }
   },
   "source": [
    "<img src=\"./images/S1.png\" width=\"1080\" height=\"1920\" align=\"center\"/>"
   ]
  },
  {
   "cell_type": "markdown",
   "metadata": {
    "id": "OBhg0m1UAkNo",
    "slideshow": {
     "slide_type": "subslide"
    }
   },
   "source": [
    "<img src=\"./images/S2.png\" width=\"1080\" height=\"1920\" align=\"center\"/>"
   ]
  },
  {
   "cell_type": "markdown",
   "metadata": {
    "id": "OBhg0m1UAkNo",
    "slideshow": {
     "slide_type": "subslide"
    }
   },
   "source": [
    "<img src=\"./images/S3.png\" width=\"1080\" height=\"1920\" align=\"center\"/>"
   ]
  },
  {
   "cell_type": "markdown",
   "metadata": {
    "id": "OBhg0m1UAkNo",
    "slideshow": {
     "slide_type": "subslide"
    }
   },
   "source": [
    "<img src=\"./images/S4.png\" width=\"1080\" height=\"1920\" align=\"center\"/>"
   ]
  },
  {
   "cell_type": "markdown",
   "metadata": {
    "id": "OBhg0m1UAkNo",
    "slideshow": {
     "slide_type": "subslide"
    }
   },
   "source": [
    "<img src=\"./images/S5.png\" width=\"1080\" height=\"1920\" align=\"center\"/>"
   ]
  },
  {
   "cell_type": "markdown",
   "metadata": {
    "id": "1lCeP1m1Al75",
    "slideshow": {
     "slide_type": "subslide"
    }
   },
   "source": [
    "## <center> Super Dense Coding </center>\n",
    "\n",
    "* Secure Classical Communication:\n",
    "  * Each Bell pair is a maximally entangled state:\n",
    "    \\begin{align}\n",
    "      \\text{Mixed state of transmitted qubit }= \\{(0.5,\\vert 0\\rangle),(0.5,\\vert 1\\rangle)\\}\n",
    "    \\end{align}\n",
    "  * Impossible for eavesdropper to deduce the quantum state transmitted. "
   ]
  },
  {
   "cell_type": "code",
   "execution_count": 35,
   "metadata": {
    "colab": {
     "base_uri": "https://localhost:8080/",
     "height": 139
    },
    "id": "xUIxI72zDwqx",
    "outputId": "d18ddcf2-27eb-4754-d012-d0549aaf7118",
    "slideshow": {
     "slide_type": "subslide"
    }
   },
   "outputs": [
    {
     "data": {
      "text/html": [
       "<pre style=\"word-wrap: normal;white-space: pre;background: #fff0;line-height: 1.1;font-family: &quot;Courier New&quot;,Courier,monospace\">     ┌───┐      ░ ┌───┐ ░ \n",
       "q_0: ┤ H ├──■───░─┤ Z ├─░─\n",
       "     └───┘┌─┴─┐ ░ └───┘ ░ \n",
       "q_1: ─────┤ X ├─░───────░─\n",
       "          └───┘ ░       ░ </pre>"
      ],
      "text/plain": [
       "     ┌───┐      ░ ┌───┐ ░ \n",
       "q_0: ┤ H ├──■───░─┤ Z ├─░─\n",
       "     └───┘┌─┴─┐ ░ └───┘ ░ \n",
       "q_1: ─────┤ X ├─░───────░─\n",
       "          └───┘ ░       ░ "
      ]
     },
     "execution_count": 35,
     "metadata": {},
     "output_type": "execute_result"
    }
   ],
   "source": [
    "from qiskit import QuantumCircuit\n",
    "from qiskit import IBMQ, Aer, transpile, assemble\n",
    "from qiskit.visualization import plot_histogram\n",
    "\n",
    "# Create a quantum circuit with 2 qubits\n",
    "SDC_Circuit = QuantumCircuit(2)\n",
    "\n",
    "# Create a Bell pair between the 2 qubits by applying a H gate on the 1st qubit followed by CNOT across the 2 qubits (1st as control)\n",
    "SDC_Circuit.h(0) \n",
    "SDC_Circuit.cx(0,1)\n",
    "\n",
    "# Adding a barrier as the Bell pair would be created much before SDC\n",
    "SDC_Circuit.barrier() \n",
    "\n",
    "# Assign the classical information to bits\n",
    "b1 = \"0\"\n",
    "b2 = \"1\"\n",
    "\n",
    "if b1 == \"1\":\n",
    "    SDC_Circuit.x(0)\n",
    "\n",
    "if b2 == \"1\":\n",
    "    SDC_Circuit.z(0)\n",
    "\n",
    "# Adding a barrier to distinguish from the receiver circuit\n",
    "SDC_Circuit.barrier()\n",
    "\n",
    "SDC_Circuit.draw()"
   ]
  },
  {
   "cell_type": "code",
   "execution_count": 36,
   "metadata": {
    "colab": {
     "base_uri": "https://localhost:8080/",
     "height": 139
    },
    "id": "xUIxI72zDwqx",
    "outputId": "d18ddcf2-27eb-4754-d012-d0549aaf7118",
    "slideshow": {
     "slide_type": "subslide"
    }
   },
   "outputs": [
    {
     "name": "stdout",
     "output_type": "stream",
     "text": [
      "{'01': 1024}\n"
     ]
    },
    {
     "data": {
      "image/png": "[encoded data removed]",
      "text/plain": [
       "<Figure size 504x360 with 1 Axes>"
      ]
     },
     "execution_count": 36,
     "metadata": {},
     "output_type": "execute_result"
    }
   ],
   "source": [
    "# The transmitter qubit is sent to the receiver.\n",
    "\n",
    "# The receiver applies the recovery protocol\n",
    "\n",
    "SDC_Circuit.cx(0,1)\n",
    "SDC_Circuit.h(0)\n",
    "\n",
    "# Finally, Bob measures his qubits to read Alice's message\n",
    "SDC_Circuit.measure_all()\n",
    "\n",
    "# Draw our output\n",
    "SDC_Circuit.draw()\n",
    "\n",
    "aer_sim = Aer.get_backend('aer_simulator')\n",
    "qobj = assemble(SDC_Circuit)\n",
    "result = aer_sim.run(qobj).result()\n",
    "counts = result.get_counts(SDC_Circuit)\n",
    "print(counts)\n",
    "plot_histogram(counts)"
   ]
  },
  {
   "cell_type": "code",
   "execution_count": 37,
   "metadata": {
    "colab": {
     "base_uri": "https://localhost:8080/",
     "height": 139
    },
    "id": "xUIxI72zDwqx",
    "outputId": "d18ddcf2-27eb-4754-d012-d0549aaf7118",
    "slideshow": {
     "slide_type": "subslide"
    }
   },
   "outputs": [
    {
     "data": {
      "text/html": [
       "<pre style=\"word-wrap: normal;white-space: pre;background: #fff0;line-height: 1.1;font-family: &quot;Courier New&quot;,Courier,monospace\">        ┌───┐      ░ ┌───┐ ░      ┌───┐ ░ ┌─┐   \n",
       "   q_0: ┤ H ├──■───░─┤ Z ├─░───■──┤ H ├─░─┤M├───\n",
       "        └───┘┌─┴─┐ ░ └───┘ ░ ┌─┴─┐└───┘ ░ └╥┘┌─┐\n",
       "   q_1: ─────┤ X ├─░───────░─┤ X ├──────░──╫─┤M├\n",
       "             └───┘ ░       ░ └───┘      ░  ║ └╥┘\n",
       "meas: 2/═══════════════════════════════════╩══╩═\n",
       "                                           0  1 </pre>"
      ],
      "text/plain": [
       "        ┌───┐      ░ ┌───┐ ░      ┌───┐ ░ ┌─┐   \n",
       "   q_0: ┤ H ├──■───░─┤ Z ├─░───■──┤ H ├─░─┤M├───\n",
       "        └───┘┌─┴─┐ ░ └───┘ ░ ┌─┴─┐└───┘ ░ └╥┘┌─┐\n",
       "   q_1: ─────┤ X ├─░───────░─┤ X ├──────░──╫─┤M├\n",
       "             └───┘ ░       ░ └───┘      ░  ║ └╥┘\n",
       "meas: 2/═══════════════════════════════════╩══╩═\n",
       "                                           0  1 "
      ]
     },
     "execution_count": 37,
     "metadata": {},
     "output_type": "execute_result"
    }
   ],
   "source": [
    "# Draw our output\n",
    "SDC_Circuit.draw()"
   ]
  },
  {
   "cell_type": "code",
   "execution_count": null,
   "metadata": {
    "slideshow": {
     "slide_type": "notes"
    }
   },
   "outputs": [],
   "source": [
    "# from here - Praveen"
   ]
  },
  {
   "cell_type": "markdown",
   "metadata": {
    "id": "ciWmgsEDd0W8",
    "slideshow": {
     "slide_type": "slide"
    }
   },
   "source": [
    "## <center> Quantum Key Distribution </center>\n",
    "Goal: To establish a shared binary string between two parties - Alice and Bob, while protecting information from evesdropper Eve\n",
    "\n",
    "Idea: When state $\\vert +\\rangle$ (or) $\\vert - \\rangle$ is measured in standard basis $\\vert 0 \\rangle, \\vert 1 \\rangle$, we obtain 0 and 1 with equal probability, and vice versa\n",
    "![](./images/x1.jpeg)\n",
    "QKD set up, image source:  https://deepai.org/publication/backflash-light-as-a-security-vulnerability-in-quantum-key-distribution-systems"
   ]
  },
  {
   "cell_type": "markdown",
   "metadata": {
    "id": "wpQsrHn_d0W9",
    "slideshow": {
     "slide_type": "subslide"
    }
   },
   "source": [
    "Protocol:\n",
    "* Alice has to transmit bit string $\\bar{a} = a_1a_2\\cdots a_n$. She chooses another bit string $\\bar{b} = b_1b_2\\cdots b_n$ to denote the basis with which she encodes her bit string into qubits $\\vert \\bar{q}\\rangle = \\vert q_1q_2\\cdots q_n\\rangle$.\n",
    "    * If $b_i = 0$, she encodes with $\\{\\vert 0 \\rangle, \\vert 1 \\rangle\\}$ basis: \n",
    "\n",
    "        $a_i = 0 \\rightarrow \\vert q_i \\rangle = \\vert 0 \\rangle$, \n",
    "\n",
    "        $a_i = 1 \\rightarrow \\vert q_i \\rangle = \\vert 1 \\rangle$\n",
    "\n",
    "    * If $b_i = 1$, she encodes with $\\{\\vert + \\rangle, \\vert - \\rangle\\}$ basis: \n",
    "\n",
    "        $a_i = 0 \\rightarrow \\vert q_i \\rangle = \\vert + \\rangle$, \n",
    "\n",
    "        $a_i = 1 \\rightarrow \\vert q_i \\rangle = \\vert - \\rangle$"
   ]
  },
  {
   "cell_type": "markdown",
   "metadata": {
    "id": "LTJNrEuRd0W9",
    "slideshow": {
     "slide_type": "subslide"
    }
   },
   "source": [
    "* Alice now sends qubits $\\vert q_1q_2\\cdots q_n \\rangle$ to Bob, without revealing basis string $\\bar{b} = b_1b_2\\cdots b_n$.\n",
    "* Bob does not know the basis of state preparation $\\bar{b}$ and randomly chooses bit string $\\bar{c} = c_1c_2\\cdots c_n$ that determine the basis of measurement\n",
    "    * If $c_i = 0$, he measures in $\\{\\vert 0 \\rangle, \\vert 1 \\rangle\\}$ basis: \n",
    "\n",
    "        If $b_i = 0$, Bob obtains correct answer $d_i = a_i$ with probability ~ 1\n",
    "\n",
    "        If $b_i = 1$, Bob obtains correct answer $d_i = a_i$ and wrong answer $d_i \\neq a_i$ with probability ~ 0.5 each\n",
    "\n",
    "    * If $c_i = 1$, he measures in $\\{\\vert + \\rangle, \\vert - \\rangle\\}$ basis: \n",
    "\n",
    "        If $b_i = 1$, Bob obtains correct answer $d_i = a_i$ with probability ~ 1\n",
    "\n",
    "        If $b_i = 0$, Bob obtains correct answer $d_i = a_i$ and wrong answer $d_i \\neq a_i$ with probability ~ 0.5 each\n"
   ]
  },
  {
   "cell_type": "markdown",
   "metadata": {
    "id": "kJsOIGIqd0W9",
    "slideshow": {
     "slide_type": "subslide"
    }
   },
   "source": [
    "<img src=\"./images/QKD.png\" width=\"800\" height=\"800\" align=\"center\"/>"
   ]
  },
  {
   "cell_type": "markdown",
   "metadata": {
    "id": "GV9t7VLWd0W-",
    "slideshow": {
     "slide_type": "subslide"
    }
   },
   "source": [
    "* Finally, Bob tells Alice that he has performed measurements. Alice and Bob publicly exchange basis strings $\\bar{b}$ and $\\bar{c}$.\n",
    "* In both above cases, if $b_i = c_i$ (they choose the same basis), measurement is performed in the same basis and answers will almost always be correct, an for basis mismatch, would be wrong for half the bits.\n",
    "* Hence they retain the bit results $a_i$ and $d_i$ respectively at positions where they used the same basis bits $b_i = c_i$.\n",
    "\n",
    "Advantange: Information is physically protected from evesdropping and third parties. Eve does not know the basis used by Alice. If Eve tries to obtain information by performing measurements, Bob would receive altered qubits with too many errors and this can be detected by statistical methods. This can be performed by using a small fraction of the obtained bit strings $\\bar{a}$ and $\\bar{d}$ to verify integrity.\n",
    "\n",
    "![](./images/qkd.png)"
   ]
  },
  {
   "cell_type": "markdown",
   "metadata": {
    "id": "e16qvpcud0XC",
    "slideshow": {
     "slide_type": "slide"
    }
   },
   "source": [
    "## <center> Searching </center>\n",
    " * Classically, to find an object in an unsorted list, it requires us to check every item of the list. If the number of elements is n, it requires at max n checks to find an element. Complexity of search: $\\mathcal{O}(n)$\n",
    "\n",
    " * Using Grover's search algorithm on an unsorted database, one can find an object with just $\\mathcal{O}(\\sqrt{n})$ checks.\n",
    "\n",
    " * The Grover's search algorithm consists of 2 steps:\n",
    "     * Oracle creation\n",
    "     * Amplitude amplification\n",
    " "
   ]
  },
  {
   "cell_type": "markdown",
   "metadata": {
    "id": "WZzRfIX2d0XD",
    "slideshow": {
     "slide_type": "subslide"
    }
   },
   "source": [
    "* Oracle creation: \n",
    "  * Classical function: $f_w(x) = 0$ if $x\\neq w$ and $f_w(x) = 1$ if $x=w$.\n",
    "  * Quantum function: \n",
    "  \\begin{align}\n",
    "  \\vert x \\rangle &\\vert y \\rangle \\xrightarrow{U_w} \\vert x \\rangle \\vert y \\oplus f_w(x) \\rangle,\\\\\n",
    "   \\text{which is }\\text{equivalent to}\\\\\n",
    "   \\vert x \\rangle  &\\rightarrow{U_w}(-1)^{f_w(x)}\\vert x \\rangle,\\text{ when }\\vert y \\rangle = (\\vert 0 \\rangle - \\vert 1 \\rangle)/\\sqrt{2}, \\\\\n",
    "  \\Rightarrow U_w &= \\mathrm{I} - 2\\vert w \\rangle \\langle w\\vert\n",
    "      \\end{align}\n",
    "     Thus, the oracle flips sign of state $\\vert w\\rangle$ but does not change the other states."
   ]
  },
  {
   "cell_type": "markdown",
   "metadata": {
    "slideshow": {
     "slide_type": "subslide"
    }
   },
   "source": [
    "<img src=\"./images/grover_step1.jpg\" width=\"1080\" height=\"1920\" align=\"center\"/>\n",
    "(Image from qiskit textbook)"
   ]
  },
  {
   "cell_type": "markdown",
   "metadata": {
    "slideshow": {
     "slide_type": "subslide"
    }
   },
   "source": [
    "<img src=\"./images/grover_step2.jpg\" width=\"1080\" height=\"1920\" align=\"center\"/>\n",
    "(Image from qiskit textbook)"
   ]
  },
  {
   "cell_type": "markdown",
   "metadata": {
    "id": "HB96bBkMd0XD",
    "slideshow": {
     "slide_type": "subslide"
    }
   },
   "source": [
    "* Amplitude Amplification: \n",
    "  * First prepare a equiprobable normalized superposition of all possible values of $x$ (Hadamard gates $\\mathrm{H}$ on $\\vert 0\\rangle$s):\n",
    "\\begin{align}\n",
    "\\vert s \\rangle  = \\frac{1}{\\sqrt{n}}\\underset{x=1}{\\overset{n}{\\sum}}\\vert x \\rangle.\n",
    "\\end{align}\n",
    " * We next perform the Grover's interations: Grover iteration comprises of 2 steps:\n",
    "     *  Apply the operator $U_w = \\mathrm{I} - 2\\vert w \\rangle \\langle w\\vert$ to the state $\\vert \\psi \\rangle$. For the first iteration, $\\vert \\psi \\rangle = \\vert s \\rangle$.\n",
    "     * Apply the operator $U_s = 2\\vert s \\rangle\\langle s \\vert - \\mathrm{I}$ which preserves $s$ but flips sign of states orthogonal to $\\vert s\\rangle$.\n",
    "\n",
    "     Let $\\vert \\psi\\rangle = \\underset{x=1}{\\overset{n}{\\sum}}a_x\\vert x\\rangle$. Then, $U_s \\vert \\psi\\rangle = \\underset{x=1}{\\overset{n}{\\sum}} (2\\langle a \\rangle-a_x)\\vert x \\rangle$. \n",
    "\\begin{align}\n",
    "  \\text{Let }a_x = \\langle a \\rangle + a_d \\Rightarrow (2\\langle a \\rangle - a_x) = \\langle a \\rangle - a_d\n",
    "\\end{align}\n",
    "Thus, the amplitudes are inverted along the mean amplitude.\n",
    "* After the Grover's iteration is applied for $\\sqrt{n}$ times, the amplitudes $a_x = 0$ for  $x \\neq w$ and $a_w=1$."
   ]
  },
  {
   "cell_type": "markdown",
   "metadata": {
    "slideshow": {
     "slide_type": "subslide"
    }
   },
   "source": [
    "<img src=\"./images/grover_step3.jpg\" width=\"1080\" height=\"1920\" align=\"center\"/>\n",
    "(Image from qiskit textbook)"
   ]
  },
  {
   "cell_type": "markdown",
   "metadata": {
    "id": "YuCm-7v0d0XE",
    "slideshow": {
     "slide_type": "subslide"
    }
   },
   "source": [
    "<img src=\"./images/GroverAlgo.png\" width=\"1080\" height=\"1920\" align=\"center\"/>\n",
    "\n",
    "We can numerically determine the number of Grover's iterations required and we obtain it as $\\sqrt{n}$"
   ]
  },
  {
   "cell_type": "code",
   "execution_count": null,
   "metadata": {
    "id": "UpWJcCkHd0XF",
    "outputId": "71e8f65b-0710-4b96-cad4-3f6b9984ba0c",
    "slideshow": {
     "slide_type": "skip"
    }
   },
   "outputs": [],
   "source": [
    "#grover's algorithm (oracle identifies string s) 2 bit string\n",
    "\n",
    "grovers = QuantumCircuit(2, 2)\n",
    "\n",
    "#creating equal superposition\n",
    "grovers.h([0, 1])\n",
    "#grovers.draw()"
   ]
  },
  {
   "cell_type": "code",
   "execution_count": 38,
   "metadata": {
    "slideshow": {
     "slide_type": "slide"
    }
   },
   "outputs": [],
   "source": [
    "from pennylane import broadcast\n",
    "\n",
    "def grovers():\n",
    "    broadcast(unitary=qml.Hadamard, pattern=\"single\", wires=[0,1])\n",
    "    \n",
    "    #oracle\n",
    "    s = '10'\n",
    "    for i in range(len(s)):\n",
    "        if s[i] == '0':\n",
    "            qml.PauliX(wires= i)\n",
    "    qml.CZ(wires = [0, 1])\n",
    "    for i in range(len(s)):\n",
    "        if s[i] == '0':\n",
    "            qml.PauliX(wires= i)\n",
    "    \n",
    "    # amplification\n",
    "    broadcast(unitary=qml.Hadamard, pattern=\"single\", wires=[0,1])\n",
    "    qml.PauliZ(wires = 0)\n",
    "    qml.PauliZ(wires = 1)\n",
    "    qml.CZ(wires = [0, 1])\n",
    "    broadcast(unitary=qml.Hadamard, pattern=\"single\", wires=[0,1])\n",
    "    \n",
    "    return qml.probs(wires = [0, 1])"
   ]
  },
  {
   "cell_type": "code",
   "execution_count": 39,
   "metadata": {
    "slideshow": {
     "slide_type": "subslide"
    }
   },
   "outputs": [
    {
     "name": "stdout",
     "output_type": "stream",
     "text": [
      " 0: ──H─────╭C──H──Z─────╭C──H──╭┤ Probs \n",
      " 1: ──H──X──╰Z──X──H──Z──╰Z──H──╰┤ Probs \n",
      "\n"
     ]
    }
   ],
   "source": [
    "dev2 = qml.device(\"default.qubit\", wires=2)\n",
    "circ_grovers = qml.QNode(grovers, dev2)\n",
    "probs_grovers = circ_grovers()\n",
    "\n",
    "drawer = qml.draw(circ_grovers)\n",
    "print(drawer())"
   ]
  },
  {
   "cell_type": "code",
   "execution_count": 40,
   "metadata": {
    "slideshow": {
     "slide_type": "subslide"
    }
   },
   "outputs": [
    {
     "data": {
      "image/png": "[encoded data removed]",
      "text/plain": [
       "<Figure size 432x288 with 1 Axes>"
      ]
     },
     "metadata": {
      "needs_background": "light"
     },
     "output_type": "display_data"
    }
   ],
   "source": [
    "plot_hist_probs(probs_grovers)"
   ]
  },
  {
   "cell_type": "code",
   "execution_count": null,
   "metadata": {
    "id": "kh3duzSVd0XF",
    "slideshow": {
     "slide_type": "skip"
    }
   },
   "outputs": [],
   "source": [
    "#applying oracle to mark string s\n",
    "s = '10'\n",
    "for i in range(len(s)):\n",
    "    if s[i] == '0':\n",
    "        grovers.x(i)\n",
    "grovers.cz(0, 1)\n",
    "for i in range(len(s)):\n",
    "    if s[i] == '0':\n",
    "        grovers.x(i)"
   ]
  },
  {
   "cell_type": "code",
   "execution_count": null,
   "metadata": {
    "id": "_COVvgBLd0XG",
    "outputId": "4176856d-d0fb-4f0a-8a6a-2385eefcbf78",
    "slideshow": {
     "slide_type": "skip"
    }
   },
   "outputs": [],
   "source": [
    "#amplitude amplification (I - |S>)\n",
    "grovers.h([0, 1])\n",
    "grovers.z([0, 1])\n",
    "grovers.cz(0, 1)\n",
    "grovers.h([0, 1])\n",
    "\n",
    "grovers.draw()"
   ]
  },
  {
   "cell_type": "code",
   "execution_count": null,
   "metadata": {
    "id": "zmC_vj-Vd0XG",
    "outputId": "b193b3dd-a130-48d4-bb75-8d8d93d61d06",
    "slideshow": {
     "slide_type": "skip"
    }
   },
   "outputs": [],
   "source": [
    "grovers.measure([0, 1], [0, 1])\n",
    "qobj = assemble(grovers)\n",
    "counts_grovers = qasmsim.run(qobj).result().get_counts()\n",
    "plot_histogram(counts_grovers)"
   ]
  },
  {
   "cell_type": "markdown",
   "metadata": {
    "id": "elPRa0e5d0XG",
    "slideshow": {
     "slide_type": "slide"
    }
   },
   "source": [
    "## <center> Oracles </center>\n",
    "In the algorithm above, we used an oracle to mark the required state. An oracle can be thought of as a blackbox that given an input, spits out the corresponding answer.\n",
    "oracles can be designed for tasks like \n",
    "* Determining if the given input is the required target, \n",
    "* For calculating some hidden function $f$ on the input. \n",
    "* It can also be used to mark if the given input satisfies some criteria ie verify if it is a solution, satisfiability problem. grover's algorithm can be used to solve NP complete problems.\n",
    "\n",
    "NP problems are those who's solutions are hard to find but easy to verify. Thus when given a superposition of all posible solution states, the quantum oracle marks the solution state. In the next step, the amplitude of the marked state will be amplified."
   ]
  },
  {
   "cell_type": "markdown",
   "metadata": {
    "id": "TOPDnfdmd0XH",
    "slideshow": {
     "slide_type": "subslide"
    }
   },
   "source": [
    "The example illustrated where we marked string 01, the problem can be recast into a clause $(\\bar{x_1}\\wedge x_2)$\n",
    "\n",
    "In general we can solve the 3 satisfiability (3-SAT) problem by recasting the string into maximally disjoint clauses of the form\n",
    "$(x_1 \\vee x_2 \\vee x_3)\\wedge(x_4\\vee x_5 \\vee x_6)\\wedge \\cdots $\n",
    "\n"
   ]
  },
  {
   "cell_type": "markdown",
   "metadata": {
    "id": "DXrANmkId0XH",
    "slideshow": {
     "slide_type": "slide"
    }
   },
   "source": [
    "## <center> VQE and optimization using quantum computers </center>\n",
    "\n",
    "* In chemistry and biology, we require to estimate and predict various parameters of molecules to study and understand their properties.\n",
    "* Estimating these properties using classical computers and algorithms are computationally hard. Quantum systems have entanglement and superposition that are hard to efficiently simulate on classical systems.\n",
    "* As Prof. Feynman had once said, quantum computer would be better to efficiently simulate quantum systems.  \n",
    "* An important parameter that determines the stability and various properties is the bond length of the molecule.\n",
    "\n",
    "\n",
    "* The bond length by definition minimizes the energy of the molecule. This hints at designing a quantum optimizer parameterized by the bond length and outputs the estimated energy.\n",
    "* We can then optimize the circuit (by optimizing parameters like bond length) to obtain the least energy possible."
   ]
  },
  {
   "cell_type": "markdown",
   "metadata": {
    "id": "uqGwAH_dd0XH",
    "slideshow": {
     "slide_type": "subslide"
    }
   },
   "source": [
    "### Other applications\n",
    "\n",
    "* Matrix inversion by HHL method - to solve linear equations efficiently\n",
    "    Uses phase estimation and conditional rotational gates to approximately invert matrices\n",
    "* Optimization using QAOA - Start with a known hamiltonian $H_0$ and the lowest eigen state and quasi-statically evolve to the required hamiltonian $H_1$. Due to Adiabaticity, the final state of the system would also be the lowest eigen state of $H_1$.\n",
    "* Shor's factoring algorithm - To solve discrete logarithm problem using phase estimation- Can solve with exponential speed up over classical methods and break RSA encryption."
   ]
  },
  {
   "cell_type": "code",
   "execution_count": null,
   "metadata": {
    "slideshow": {
     "slide_type": "skip"
    }
   },
   "outputs": [],
   "source": [
    "# from here - Priya"
   ]
  },
  {
   "cell_type": "markdown",
   "metadata": {
    "id": "PUykfM_J2lDX",
    "slideshow": {
     "slide_type": "slide"
    }
   },
   "source": [
    "## <center> Quantum Error Correction</center>\n",
    "* Quantum Errors:\n",
    "  * Quantum Decoherence: Quantum system interacts with the environment, gets entangled, and becomes a mixed state (Loss of quantum information).\n",
    "  * Quantum errors due to imperfect quantum gates and other quantum hardware.\n",
    "\n",
    "* Quantum Error Correction Idea (Similar to classical error correction):\n",
    "  * Message encoded in a higher dimensional space (Adding redundancy). \n",
    "  * When errors occur, quantum information is retrieved with the help of the redundant quantum information.\n",
    "  * There is a notion of distance or set of correctable errors.\n",
    "\n",
    "* Initially it was assumed that quantum error correction was not possible due to\n",
    "  * No-cloning theorem.\n",
    "  * Measurement destroys superposition.\n",
    "  * Continuous nature of quantum errors."
   ]
  },
  {
   "cell_type": "markdown",
   "metadata": {
    "slideshow": {
     "slide_type": "subslide"
    }
   },
   "source": [
    "![](./images/ECC1.png)"
   ]
  },
  {
   "cell_type": "markdown",
   "metadata": {
    "id": "1I_Uc9mjLWD0",
    "slideshow": {
     "slide_type": "slide"
    }
   },
   "source": [
    "## <center> Shor's code (First Quantum Error Correction Codes (QECCs))</center>\n",
    "\n",
    "  * Classical repetition code: Correct one bit flip error\n",
    "  \\begin{align}\n",
    "    0 \\rightarrow 000, 1 \\rightarrow 111.\n",
    "  \\end{align}\n",
    "  * Quantum single bit flip correcting code:\n",
    "    \\begin{align}\n",
    "      \\vert 0\\rangle \\rightarrow \\vert 000\\rangle, \\vert 1\\rangle \\rightarrow \\vert 111\\rangle. \n",
    "    \\end{align}\n",
    "  * Quantum single phase flip correcting code: ($\\mathrm{Z}\\vert + \\rangle = \\vert - \\rangle$)\n",
    "    \\begin{align}\n",
    "      \\vert 0\\rangle \\rightarrow \\vert +++\\rangle, \\vert 1\\rangle \\rightarrow \\vert ---\\rangle. \n",
    "    \\end{align}\n",
    "  * Syndrome computation: Take 2 ancilla qubit and perform CNOT(1,4)CNOT(2,4) and CNOT(2,5)CNOT(3,5) to get the syndrome for bit flip error. Similar for phase flip error but Hadamard gate should be used."
   ]
  },
  {
   "cell_type": "markdown",
   "metadata": {
    "id": "1I_Uc9mjLWD0",
    "slideshow": {
     "slide_type": "subslide"
    }
   },
   "source": [
    "  * Shor's code: Obtained by concatenating the two codes: \n",
    "    * First use the phase flip code\n",
    "  \\begin{align}\n",
    "   \\vert 0\\rangle \\rightarrow \\left(\\frac{\\vert 0\\rangle+\\vert 1\\rangle}{\\sqrt{2}}\\right)\\left(\\frac{\\vert 0\\rangle+\\vert 1\\rangle}{\\sqrt{2}}\\right)\\left(\\frac{\\vert 0\\rangle+\\vert 1\\rangle}{\\sqrt{2}}\\right),\\\\\n",
    "   \\vert 1\\rangle \\rightarrow \\left(\\frac{\\vert 0\\rangle-\\vert 1\\rangle}{\\sqrt{2}}\\right)\\left(\\frac{\\vert 0\\rangle-\\vert 1\\rangle}{\\sqrt{2}}\\right)\\left(\\frac{\\vert 0\\rangle-\\vert 1\\rangle}{\\sqrt{2}}\\right),\\\\\n",
    "  \\end{align}\n",
    "    * Then apply the bit flip code\n",
    "\\begin{align}\n",
    "   \\vert 0\\rangle \\rightarrow \\left(\\frac{\\vert 000\\rangle+\\vert 111\\rangle}{\\sqrt{2}}\\right)\\left(\\frac{\\vert 000\\rangle+\\vert 111\\rangle}{\\sqrt{2}}\\right)\\left(\\frac{\\vert 000\\rangle+\\vert 111\\rangle}{\\sqrt{2}}\\right),\\\\\n",
    "   \\vert 1\\rangle \\rightarrow \\left(\\frac{\\vert 000\\rangle-\\vert 111\\rangle}{\\sqrt{2}}\\right)\\left(\\frac{\\vert 000\\rangle-\\vert 111\\rangle}{\\sqrt{2}}\\right)\\left(\\frac{\\vert 000\\rangle-\\vert 111\\rangle}{\\sqrt{2}}\\right),\\\\\n",
    "  \\end{align}"
   ]
  },
  {
   "cell_type": "markdown",
   "metadata": {
    "id": "lbzGbh7jN5NN",
    "slideshow": {
     "slide_type": "slide"
    }
   },
   "source": [
    "## <center> Stabilizer Codes (QECCs)</center>\n",
    "\n",
    "* Daniel Gottesman proposed a framework of quantum codes: Idea similar to classical additive codes (classical linear codes for qubits)\n",
    "\n",
    "* Symplectic isomorphism: $\\mathrm{I} \\rightarrow [0|0]$, $\\mathrm{X} \\rightarrow [1|0]$, $\\mathrm{Z} \\rightarrow [0|1]$, and $\\mathrm{iY} \\rightarrow [1|1]$.\n",
    "\n",
    "\n",
    "\n",
    "<table><tr>\n",
    "<td> <img src=\"./images/ECC21.png\" alt=\"Drawing\" style=\"width: 350px;\"/> </td>\n",
    "<td> <img src=\"./images/ECC22.png\" alt=\"Drawing\" style=\"width: 350px;\"/> </td>\n",
    "</tr></table>"
   ]
  },
  {
   "cell_type": "markdown",
   "metadata": {
    "id": "lbzGbh7jN5NN",
    "slideshow": {
     "slide_type": "subslide"
    }
   },
   "source": [
    "![](./images/ECC3.png)"
   ]
  },
  {
   "cell_type": "markdown",
   "metadata": {
    "id": "lbzGbh7jN5NN",
    "slideshow": {
     "slide_type": "subslide"
    }
   },
   "source": [
    "* Design of stabilizer codes is equivalent to the design of the check matrix.\n",
    "\n",
    "* Code parameters: [[n,k,d]]\n",
    "  * n = length of stabilizers\n",
    "  * k = code dimension = n - number of independent stabilizers \n",
    "  * d = distance of the code (Depends on the least weight of non-trivial uncorrectable error)\n",
    "\n",
    "* Calderbank-Shor-Steane (CSS) Code: A class of stabilizer codes:\n",
    "  * Consider two classical codes $C_1\\equiv[n,k_1,d_1]$ and $C_2\\equiv[n,k_2,d_2]$ with parity check matrices $H_1$ and $H_2$ such that $H_1^{\\mathrm{T}}H_2 = 0$ ($C_1^{\\perp}\\subset C_2$).\n",
    "  * CSS code is obtained from the check matrix\n",
    "  \\begin{align}\n",
    "  \\mathcal{H}_{\\mathrm{CSS}} = \\left[\\begin{array}{c|c}\n",
    "    H_1 & 0\\\\\n",
    "    0 & H_2\n",
    "  \\end{array}\\right].\n",
    "  \\end{align}\n",
    "  * CSS code is a $[[n,k_1+k_2-n,d\\geq \\mathrm{min}(d_1,d_2)]]$ code.\n",
    "  * Due to the nature of the stabilizer, can correct $\\mathrm{X}$ and $\\mathrm{Z}$ errors separately."
   ]
  },
  {
   "cell_type": "markdown",
   "metadata": {
    "id": "j98sgQ82d0XI",
    "slideshow": {
     "slide_type": "slide"
    }
   },
   "source": [
    "## <center> Questions </center>\n",
    "<center> Any questions? </center>\n",
    "\n",
    "## <center> References </center>\n",
    "* Quantum Computation and Quantum Information, 10th edition, Michael Nielsen and Isaac Chuang.\n",
    "* [Qiskit textbook](https://qiskit.org/textbook/preface.html)\n",
    "* Qiskit documentation\n",
    "* Pennylane documentation\n",
    "* John Preskill's notes\n",
    "* [MIT OCW lecture notes on Grover's algorithm](https://ocw.mit.edu/courses/mathematics/18-435j-quantum-computation-fall-2003/lecture-notes/qc_lec11.pdf)"
   ]
  },
  {
   "cell_type": "markdown",
   "metadata": {
    "id": "_x1gl5ywd0XI",
    "slideshow": {
     "slide_type": "slide"
    }
   },
   "source": [
    "## <center> Acknowledgements </center>\n",
    "* We would like to thank our Advisor Prof. Shayan Srinivasa Garani.\n",
    "* We would like to thank IEEE Bangalore Section and IEEE WiE AG Bangalore Section for this opportunity.\n",
    "\n",
    "* We would also like to thank all members of the audience for taking your time to attend this tutorial."
   ]
  },
  {
   "cell_type": "markdown",
   "metadata": {
    "id": "7P1tKr78d0XI",
    "slideshow": {
     "slide_type": "slide"
    }
   },
   "source": [
    "# <center> Thank you! </center>\n",
    "<img src=\"./images/quantum_teleportation_xkcd.png\" width=\"1080\" height=\"900\" align=\"center\"/>"
   ]
  }
 ],
 "metadata": {
  "celltoolbar": "Slideshow",
  "colab": {
   "collapsed_sections": [],
   "name": "presentation.ipynb",
   "provenance": []
  },
  "kernelspec": {
   "display_name": "Python 3",
   "language": "python",
   "name": "python3"
  },
  "language_info": {
   "codemirror_mode": {
    "name": "ipython",
    "version": 3
   },
   "file_extension": ".py",
   "mimetype": "text/x-python",
   "name": "python",
   "nbconvert_exporter": "python",
   "pygments_lexer": "ipython3",
   "version": "3.7.6"
  },
  "rise": {
   "transition": "none"
  }
 },
 "nbformat": 4,
 "nbformat_minor": 1
}
